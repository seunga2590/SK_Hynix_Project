{
 "cells": [
  {
   "cell_type": "markdown",
   "id": "3d2c01ca",
   "metadata": {
    "id": "3d2c01ca"
   },
   "source": [
    "학습 데이터 셋 표준화"
   ]
  },
  {
   "cell_type": "code",
   "execution_count": null,
   "id": "f290ca51",
   "metadata": {
    "id": "f290ca51"
   },
   "outputs": [],
   "source": [
    "scaler = StandardScaler()\n",
    "# 학습 데이터 각 변수의 평균값과 표준편차를 저장한 후, 이를 사용하여 학습 및 평가용 데이터를 변환\n",
    "x_train_[col_numerical] = scaler.fit_transform(x_train_[col_numerical])\n",
    "x_valid[col_numerical] = scaler.transform(x_valid[col_numerical])"
   ]
  },
  {
   "cell_type": "markdown",
   "id": "ns1Ofgfyfbqv",
   "metadata": {
    "id": "ns1Ofgfyfbqv"
   },
   "source": [
    "모델의 성능 평가를 위해 제곱근평균제곱오차(RMSE)를 반환하는 함수를 작성합니다. "
   ]
  },
  {
   "cell_type": "code",
   "execution_count": null,
   "id": "GfCmw1CbkhG1",
   "metadata": {
    "id": "GfCmw1CbkhG1"
   },
   "outputs": [],
   "source": [
    "# mean_squared_error 의 매개변수 squared 가 False 이면 RMSE 를 반환\n",
    "def rmse(y_true,y_pred):\n",
    "\n",
    "    return round(mean_squared_error(y_true, y_pred,squared=False),4)"
   ]
  },
  {
   "attachments": {},
   "cell_type": "markdown",
   "id": "6f6d13a0",
   "metadata": {
    "id": "6f6d13a0"
   },
   "source": [
    "### 5.2 릿지 회귀 모델\n",
    "선형 모델 중 하나인 릿지 모델을 사용\n",
    "릿지 모델은 계수의 제곱에 비례하여 벌칙을 부여하는 **L2 정규화**를 사용\n",
    "\n",
    "릿지 회귀 모델에서 튜닝해야할 매개변수는 정규화의 세기를 나타내는 **alpha**\n"
   ]
  },
  {
   "cell_type": "markdown",
   "id": "c7da2850",
   "metadata": {
    "id": "c7da2850"
   },
   "source": [
    "하이퍼파라미터 종류: ['alpha', 'copy_X', 'fit_intercept', 'max_iter', 'positive', 'random_state', 'solver', 'tol']\n",
    "\n",
    "1. alpha: 규제의 강도\n",
    "2. solver: 계산에 사용할 알고리즘\n",
    "3. tol: 정밀도 (solver가 svd와 cholesky일 경우에는 의미 없음.)"
   ]
  },
  {
   "cell_type": "code",
   "execution_count": null,
   "id": "mm9V81SLFECV",
   "metadata": {
    "id": "mm9V81SLFECV"
   },
   "outputs": [],
   "source": [
    "# log 단위(1e+01)로 1.e-02 ~ 1.e+01 구간에 대해 매개변수를 탐색\n",
    "# solver_list = ['auto', 'svd', 'cholesky', 'lsqr', 'sparse_cg', 'sag', 'saga']\n",
    "ridge_params = {'alpha': np.logspace(-2, 1, 6)}"
   ]
  },
  {
   "attachments": {},
   "cell_type": "markdown",
   "id": "hRPEWxK1Fo5x",
   "metadata": {
    "id": "hRPEWxK1Fo5x"
   },
   "source": [
    "매개변수 탐색을 위해 그리드 서치 기법을 사용 \n",
    "\n",
    "GridSearchCV는 매개변수 각 조합에 대해 모델을 훈련, K-폴드 교차검증으로 평가. cv의 디폴트는 5  \n",
    "\n",
    "refit=True 로 설정할 경우, 매개변수 탐색 후, 전체 데이터셋에서 최적의 하이퍼파라미터를 사용하여 모델을 재학습"
   ]
  },
  {
   "cell_type": "code",
   "execution_count": null,
   "id": "0a39a7c1",
   "metadata": {
    "colab": {
     "base_uri": "https://localhost:8080/"
    },
    "id": "0a39a7c1",
    "outputId": "7740db09-0656-412d-c849-2eb57f707342"
   },
   "outputs": [
    {
     "data": {
      "text/plain": [
       "GridSearchCV(estimator=Ridge(),\n",
       "             param_grid={'alpha': array([ 0.01      ,  0.03981072,  0.15848932,  0.63095734,  2.51188643,\n",
       "       10.        ])},\n",
       "             scoring='neg_root_mean_squared_error')"
      ]
     },
     "metadata": {},
     "output_type": "display_data"
    }
   ],
   "source": [
    "# GridSearchCV를 이용하여 Ridge 모델을 저장\n",
    "ridge_model = GridSearchCV(Ridge(), param_grid=ridge_params, scoring='neg_root_mean_squared_error', refit=True) # error가 작아야 좋기 때문에 negative 지표로\n",
    "ridge_model.fit(x_train_,y_train_)  "
   ]
  },
  {
   "cell_type": "code",
   "execution_count": null,
   "id": "8ff849b2",
   "metadata": {
    "colab": {
     "base_uri": "https://localhost:8080/",
     "height": 237
    },
    "id": "8ff849b2",
    "outputId": "2974b99e-3832-4118-83b1-6e1948786469"
   },
   "outputs": [
    {
     "data": {
      "text/html": [
       "\n",
       "  <div id=\"df-cdf33226-11ed-4b5e-8a79-72e0e7191833\">\n",
       "    <div class=\"colab-df-container\">\n",
       "      <div>\n",
       "<style scoped>\n",
       "    .dataframe tbody tr th:only-of-type {\n",
       "        vertical-align: middle;\n",
       "    }\n",
       "\n",
       "    .dataframe tbody tr th {\n",
       "        vertical-align: top;\n",
       "    }\n",
       "\n",
       "    .dataframe thead th {\n",
       "        text-align: right;\n",
       "    }\n",
       "</style>\n",
       "<table border=\"1\" class=\"dataframe\">\n",
       "  <thead>\n",
       "    <tr style=\"text-align: right;\">\n",
       "      <th></th>\n",
       "      <th>params</th>\n",
       "      <th>mean_test_score</th>\n",
       "      <th>rank_test_score</th>\n",
       "    </tr>\n",
       "  </thead>\n",
       "  <tbody>\n",
       "    <tr>\n",
       "      <th>0</th>\n",
       "      <td>{'alpha': 0.01}</td>\n",
       "      <td>-0.006547</td>\n",
       "      <td>6</td>\n",
       "    </tr>\n",
       "    <tr>\n",
       "      <th>1</th>\n",
       "      <td>{'alpha': 0.039810717055349734}</td>\n",
       "      <td>-0.005236</td>\n",
       "      <td>5</td>\n",
       "    </tr>\n",
       "    <tr>\n",
       "      <th>2</th>\n",
       "      <td>{'alpha': 0.15848931924611134}</td>\n",
       "      <td>-0.004414</td>\n",
       "      <td>4</td>\n",
       "    </tr>\n",
       "    <tr>\n",
       "      <th>3</th>\n",
       "      <td>{'alpha': 0.630957344480193}</td>\n",
       "      <td>-0.003830</td>\n",
       "      <td>3</td>\n",
       "    </tr>\n",
       "    <tr>\n",
       "      <th>4</th>\n",
       "      <td>{'alpha': 2.5118864315095797}</td>\n",
       "      <td>-0.003498</td>\n",
       "      <td>2</td>\n",
       "    </tr>\n",
       "    <tr>\n",
       "      <th>5</th>\n",
       "      <td>{'alpha': 10.0}</td>\n",
       "      <td>-0.003386</td>\n",
       "      <td>1</td>\n",
       "    </tr>\n",
       "  </tbody>\n",
       "</table>\n",
       "</div>\n",
       "      <button class=\"colab-df-convert\" onclick=\"convertToInteractive('df-cdf33226-11ed-4b5e-8a79-72e0e7191833')\"\n",
       "              title=\"Convert this dataframe to an interactive table.\"\n",
       "              style=\"display:none;\">\n",
       "        \n",
       "  <svg xmlns=\"http://www.w3.org/2000/svg\" height=\"24px\"viewBox=\"0 0 24 24\"\n",
       "       width=\"24px\">\n",
       "    <path d=\"M0 0h24v24H0V0z\" fill=\"none\"/>\n",
       "    <path d=\"M18.56 5.44l.94 2.06.94-2.06 2.06-.94-2.06-.94-.94-2.06-.94 2.06-2.06.94zm-11 1L8.5 8.5l.94-2.06 2.06-.94-2.06-.94L8.5 2.5l-.94 2.06-2.06.94zm10 10l.94 2.06.94-2.06 2.06-.94-2.06-.94-.94-2.06-.94 2.06-2.06.94z\"/><path d=\"M17.41 7.96l-1.37-1.37c-.4-.4-.92-.59-1.43-.59-.52 0-1.04.2-1.43.59L10.3 9.45l-7.72 7.72c-.78.78-.78 2.05 0 2.83L4 21.41c.39.39.9.59 1.41.59.51 0 1.02-.2 1.41-.59l7.78-7.78 2.81-2.81c.8-.78.8-2.07 0-2.86zM5.41 20L4 18.59l7.72-7.72 1.47 1.35L5.41 20z\"/>\n",
       "  </svg>\n",
       "      </button>\n",
       "      \n",
       "  <style>\n",
       "    .colab-df-container {\n",
       "      display:flex;\n",
       "      flex-wrap:wrap;\n",
       "      gap: 12px;\n",
       "    }\n",
       "\n",
       "    .colab-df-convert {\n",
       "      background-color: #E8F0FE;\n",
       "      border: none;\n",
       "      border-radius: 50%;\n",
       "      cursor: pointer;\n",
       "      display: none;\n",
       "      fill: #1967D2;\n",
       "      height: 32px;\n",
       "      padding: 0 0 0 0;\n",
       "      width: 32px;\n",
       "    }\n",
       "\n",
       "    .colab-df-convert:hover {\n",
       "      background-color: #E2EBFA;\n",
       "      box-shadow: 0px 1px 2px rgba(60, 64, 67, 0.3), 0px 1px 3px 1px rgba(60, 64, 67, 0.15);\n",
       "      fill: #174EA6;\n",
       "    }\n",
       "\n",
       "    [theme=dark] .colab-df-convert {\n",
       "      background-color: #3B4455;\n",
       "      fill: #D2E3FC;\n",
       "    }\n",
       "\n",
       "    [theme=dark] .colab-df-convert:hover {\n",
       "      background-color: #434B5C;\n",
       "      box-shadow: 0px 1px 3px 1px rgba(0, 0, 0, 0.15);\n",
       "      filter: drop-shadow(0px 1px 2px rgba(0, 0, 0, 0.3));\n",
       "      fill: #FFFFFF;\n",
       "    }\n",
       "  </style>\n",
       "\n",
       "      <script>\n",
       "        const buttonEl =\n",
       "          document.querySelector('#df-cdf33226-11ed-4b5e-8a79-72e0e7191833 button.colab-df-convert');\n",
       "        buttonEl.style.display =\n",
       "          google.colab.kernel.accessAllowed ? 'block' : 'none';\n",
       "\n",
       "        async function convertToInteractive(key) {\n",
       "          const element = document.querySelector('#df-cdf33226-11ed-4b5e-8a79-72e0e7191833');\n",
       "          const dataTable =\n",
       "            await google.colab.kernel.invokeFunction('convertToInteractive',\n",
       "                                                     [key], {});\n",
       "          if (!dataTable) return;\n",
       "\n",
       "          const docLinkHtml = 'Like what you see? Visit the ' +\n",
       "            '<a target=\"_blank\" href=https://colab.research.google.com/notebooks/data_table.ipynb>data table notebook</a>'\n",
       "            + ' to learn more about interactive tables.';\n",
       "          element.innerHTML = '';\n",
       "          dataTable['output_type'] = 'display_data';\n",
       "          await google.colab.output.renderOutput(dataTable, element);\n",
       "          const docLink = document.createElement('div');\n",
       "          docLink.innerHTML = docLinkHtml;\n",
       "          element.appendChild(docLink);\n",
       "        }\n",
       "      </script>\n",
       "    </div>\n",
       "  </div>\n",
       "  "
      ],
      "text/plain": [
       "                            params  mean_test_score  rank_test_score\n",
       "0                  {'alpha': 0.01}        -0.006547                6\n",
       "1  {'alpha': 0.039810717055349734}        -0.005236                5\n",
       "2   {'alpha': 0.15848931924611134}        -0.004414                4\n",
       "3     {'alpha': 0.630957344480193}        -0.003830                3\n",
       "4    {'alpha': 2.5118864315095797}        -0.003498                2\n",
       "5                  {'alpha': 10.0}        -0.003386                1"
      ]
     },
     "metadata": {},
     "output_type": "display_data"
    }
   ],
   "source": [
    "col_cv_results = ['params','mean_test_score','rank_test_score']\n",
    "pd.DataFrame(ridge_model.cv_results_)[col_cv_results]"
   ]
  },
  {
   "attachments": {},
   "cell_type": "markdown",
   "id": "lmOG0YrImSSz",
   "metadata": {
    "id": "lmOG0YrImSSz"
   },
   "source": [
    "> alpha 가 10인 경우, 모델의 성능이 가장 우수"
   ]
  },
  {
   "attachments": {},
   "cell_type": "markdown",
   "id": "NazERQf16PD9",
   "metadata": {
    "id": "NazERQf16PD9"
   },
   "source": [
    "### 5.3 랜덤 포레스트 모델 \n",
    "랜덤 포레스트는 행 데이터를 샘플링한 후, 병렬로 수행된 다수의 결정 트리로부터 예측한 평균값을 출력\n",
    "\n",
    "랜덤 포레스트에서 튜닝해야할 변수\n",
    "\n",
    "*  n_estimators : 결정 트리 갯수 ( default : 100 )\n",
    "*  max_depth : 트리의 최대 깊이 ( default : None ) \n",
    "*  min_samples_split : 노드를 분할하기 위한 최소 샘플 갯수 ( default : 2 )\n",
    "*  min_samples_leaf : 리프 노드가 되기 위한 최소 샘플 갯수 ( default : 1 )\n",
    "*  max_features : 각 노드에서 분기시 사용할 최대 특성 갯수 ( default : 1.0 - 전체 특성 갯수 )\n",
    "*  bootstrap : 중복을 허용한 샘플링 여부 ( default : True ) \n",
    "\n",
    "\n",
    "결정 트리의 갯수가 커질수록 계산시간이 증가하므로, 시간과 성능의 트레이드 오프로 결정"
   ]
  },
  {
   "cell_type": "code",
   "execution_count": null,
   "id": "VY8oXLOXqisg",
   "metadata": {
    "colab": {
     "base_uri": "https://localhost:8080/"
    },
    "id": "VY8oXLOXqisg",
    "outputId": "6877f863-e3a6-453b-ab47-f0068a0e938d"
   },
   "outputs": [
    {
     "data": {
      "text/plain": [
       "GridSearchCV(estimator=RandomForestRegressor(random_state=1),\n",
       "             param_grid={'max_features': [5, 6], 'n_estimators': [120, 200]},\n",
       "             scoring='neg_root_mean_squared_error')"
      ]
     },
     "metadata": {},
     "output_type": "display_data"
    }
   ],
   "source": [
    "# GridSearchCV를 이용하여 Randomforest 모델을 저장\n",
    "rf_params = {'max_features': [5,6], 'n_estimators': [120, 200]}\n",
    "rf_model = GridSearchCV(RandomForestRegressor(random_state=1), param_grid=rf_params, scoring='neg_root_mean_squared_error', refit=True) \n",
    "rf_model.fit(x_train_,y_train_)  "
   ]
  },
  {
   "cell_type": "code",
   "execution_count": null,
   "id": "mrWqpoCF7ByT",
   "metadata": {
    "colab": {
     "base_uri": "https://localhost:8080/",
     "height": 175
    },
    "id": "mrWqpoCF7ByT",
    "outputId": "aedb0526-41c2-44bc-bab4-f44db6b215cb"
   },
   "outputs": [
    {
     "data": {
      "text/html": [
       "\n",
       "  <div id=\"df-0806f17e-6b51-4a08-90f9-3b9b8142e1b8\">\n",
       "    <div class=\"colab-df-container\">\n",
       "      <div>\n",
       "<style scoped>\n",
       "    .dataframe tbody tr th:only-of-type {\n",
       "        vertical-align: middle;\n",
       "    }\n",
       "\n",
       "    .dataframe tbody tr th {\n",
       "        vertical-align: top;\n",
       "    }\n",
       "\n",
       "    .dataframe thead th {\n",
       "        text-align: right;\n",
       "    }\n",
       "</style>\n",
       "<table border=\"1\" class=\"dataframe\">\n",
       "  <thead>\n",
       "    <tr style=\"text-align: right;\">\n",
       "      <th></th>\n",
       "      <th>params</th>\n",
       "      <th>mean_test_score</th>\n",
       "      <th>rank_test_score</th>\n",
       "    </tr>\n",
       "  </thead>\n",
       "  <tbody>\n",
       "    <tr>\n",
       "      <th>1</th>\n",
       "      <td>{'max_features': 5, 'n_estimators': 200}</td>\n",
       "      <td>-0.002189</td>\n",
       "      <td>1</td>\n",
       "    </tr>\n",
       "    <tr>\n",
       "      <th>3</th>\n",
       "      <td>{'max_features': 6, 'n_estimators': 200}</td>\n",
       "      <td>-0.002191</td>\n",
       "      <td>2</td>\n",
       "    </tr>\n",
       "    <tr>\n",
       "      <th>0</th>\n",
       "      <td>{'max_features': 5, 'n_estimators': 120}</td>\n",
       "      <td>-0.002194</td>\n",
       "      <td>3</td>\n",
       "    </tr>\n",
       "    <tr>\n",
       "      <th>2</th>\n",
       "      <td>{'max_features': 6, 'n_estimators': 120}</td>\n",
       "      <td>-0.002196</td>\n",
       "      <td>4</td>\n",
       "    </tr>\n",
       "  </tbody>\n",
       "</table>\n",
       "</div>\n",
       "      <button class=\"colab-df-convert\" onclick=\"convertToInteractive('df-0806f17e-6b51-4a08-90f9-3b9b8142e1b8')\"\n",
       "              title=\"Convert this dataframe to an interactive table.\"\n",
       "              style=\"display:none;\">\n",
       "        \n",
       "  <svg xmlns=\"http://www.w3.org/2000/svg\" height=\"24px\"viewBox=\"0 0 24 24\"\n",
       "       width=\"24px\">\n",
       "    <path d=\"M0 0h24v24H0V0z\" fill=\"none\"/>\n",
       "    <path d=\"M18.56 5.44l.94 2.06.94-2.06 2.06-.94-2.06-.94-.94-2.06-.94 2.06-2.06.94zm-11 1L8.5 8.5l.94-2.06 2.06-.94-2.06-.94L8.5 2.5l-.94 2.06-2.06.94zm10 10l.94 2.06.94-2.06 2.06-.94-2.06-.94-.94-2.06-.94 2.06-2.06.94z\"/><path d=\"M17.41 7.96l-1.37-1.37c-.4-.4-.92-.59-1.43-.59-.52 0-1.04.2-1.43.59L10.3 9.45l-7.72 7.72c-.78.78-.78 2.05 0 2.83L4 21.41c.39.39.9.59 1.41.59.51 0 1.02-.2 1.41-.59l7.78-7.78 2.81-2.81c.8-.78.8-2.07 0-2.86zM5.41 20L4 18.59l7.72-7.72 1.47 1.35L5.41 20z\"/>\n",
       "  </svg>\n",
       "      </button>\n",
       "      \n",
       "  <style>\n",
       "    .colab-df-container {\n",
       "      display:flex;\n",
       "      flex-wrap:wrap;\n",
       "      gap: 12px;\n",
       "    }\n",
       "\n",
       "    .colab-df-convert {\n",
       "      background-color: #E8F0FE;\n",
       "      border: none;\n",
       "      border-radius: 50%;\n",
       "      cursor: pointer;\n",
       "      display: none;\n",
       "      fill: #1967D2;\n",
       "      height: 32px;\n",
       "      padding: 0 0 0 0;\n",
       "      width: 32px;\n",
       "    }\n",
       "\n",
       "    .colab-df-convert:hover {\n",
       "      background-color: #E2EBFA;\n",
       "      box-shadow: 0px 1px 2px rgba(60, 64, 67, 0.3), 0px 1px 3px 1px rgba(60, 64, 67, 0.15);\n",
       "      fill: #174EA6;\n",
       "    }\n",
       "\n",
       "    [theme=dark] .colab-df-convert {\n",
       "      background-color: #3B4455;\n",
       "      fill: #D2E3FC;\n",
       "    }\n",
       "\n",
       "    [theme=dark] .colab-df-convert:hover {\n",
       "      background-color: #434B5C;\n",
       "      box-shadow: 0px 1px 3px 1px rgba(0, 0, 0, 0.15);\n",
       "      filter: drop-shadow(0px 1px 2px rgba(0, 0, 0, 0.3));\n",
       "      fill: #FFFFFF;\n",
       "    }\n",
       "  </style>\n",
       "\n",
       "      <script>\n",
       "        const buttonEl =\n",
       "          document.querySelector('#df-0806f17e-6b51-4a08-90f9-3b9b8142e1b8 button.colab-df-convert');\n",
       "        buttonEl.style.display =\n",
       "          google.colab.kernel.accessAllowed ? 'block' : 'none';\n",
       "\n",
       "        async function convertToInteractive(key) {\n",
       "          const element = document.querySelector('#df-0806f17e-6b51-4a08-90f9-3b9b8142e1b8');\n",
       "          const dataTable =\n",
       "            await google.colab.kernel.invokeFunction('convertToInteractive',\n",
       "                                                     [key], {});\n",
       "          if (!dataTable) return;\n",
       "\n",
       "          const docLinkHtml = 'Like what you see? Visit the ' +\n",
       "            '<a target=\"_blank\" href=https://colab.research.google.com/notebooks/data_table.ipynb>data table notebook</a>'\n",
       "            + ' to learn more about interactive tables.';\n",
       "          element.innerHTML = '';\n",
       "          dataTable['output_type'] = 'display_data';\n",
       "          await google.colab.output.renderOutput(dataTable, element);\n",
       "          const docLink = document.createElement('div');\n",
       "          docLink.innerHTML = docLinkHtml;\n",
       "          element.appendChild(docLink);\n",
       "        }\n",
       "      </script>\n",
       "    </div>\n",
       "  </div>\n",
       "  "
      ],
      "text/plain": [
       "                                     params  mean_test_score  rank_test_score\n",
       "1  {'max_features': 5, 'n_estimators': 200}        -0.002189                1\n",
       "3  {'max_features': 6, 'n_estimators': 200}        -0.002191                2\n",
       "0  {'max_features': 5, 'n_estimators': 120}        -0.002194                3\n",
       "2  {'max_features': 6, 'n_estimators': 120}        -0.002196                4"
      ]
     },
     "metadata": {},
     "output_type": "display_data"
    }
   ],
   "source": [
    "pd.DataFrame(rf_model.cv_results_)[col_cv_results].sort_values(by='rank_test_score')"
   ]
  },
  {
   "cell_type": "code",
   "execution_count": null,
   "id": "b9dae3c0",
   "metadata": {
    "colab": {
     "base_uri": "https://localhost:8080/"
    },
    "id": "b9dae3c0",
    "outputId": "192b46c3-ccbf-4dad-bcb7-91bf3de673eb"
   },
   "outputs": [
    {
     "name": "stdout",
     "output_type": "stream",
     "text": [
      "Learning rate set to 0.272088\n",
      "0:\tlearn: 0.0117220\ttotal: 13.4ms\tremaining: 1.32s\n",
      "1:\tlearn: 0.0090807\ttotal: 24ms\tremaining: 1.18s\n",
      "2:\tlearn: 0.0071356\ttotal: 34.3ms\tremaining: 1.11s\n",
      "3:\tlearn: 0.0057498\ttotal: 44.4ms\tremaining: 1.06s\n",
      "4:\tlearn: 0.0048378\ttotal: 54.9ms\tremaining: 1.04s\n",
      "5:\tlearn: 0.0042021\ttotal: 65.3ms\tremaining: 1.02s\n",
      "6:\tlearn: 0.0037901\ttotal: 75.6ms\tremaining: 1s\n",
      "7:\tlearn: 0.0034952\ttotal: 85.7ms\tremaining: 986ms\n",
      "8:\tlearn: 0.0032649\ttotal: 96.4ms\tremaining: 975ms\n",
      "9:\tlearn: 0.0031080\ttotal: 107ms\tremaining: 963ms\n",
      "10:\tlearn: 0.0029809\ttotal: 117ms\tremaining: 950ms\n",
      "11:\tlearn: 0.0028827\ttotal: 128ms\tremaining: 942ms\n",
      "12:\tlearn: 0.0028011\ttotal: 140ms\tremaining: 936ms\n",
      "13:\tlearn: 0.0027506\ttotal: 152ms\tremaining: 934ms\n",
      "14:\tlearn: 0.0027006\ttotal: 163ms\tremaining: 922ms\n",
      "15:\tlearn: 0.0026531\ttotal: 173ms\tremaining: 906ms\n",
      "16:\tlearn: 0.0026006\ttotal: 183ms\tremaining: 895ms\n",
      "17:\tlearn: 0.0025231\ttotal: 195ms\tremaining: 888ms\n",
      "18:\tlearn: 0.0024960\ttotal: 207ms\tremaining: 881ms\n",
      "19:\tlearn: 0.0024687\ttotal: 217ms\tremaining: 867ms\n",
      "20:\tlearn: 0.0024021\ttotal: 227ms\tremaining: 854ms\n",
      "21:\tlearn: 0.0023751\ttotal: 238ms\tremaining: 842ms\n",
      "22:\tlearn: 0.0023251\ttotal: 248ms\tremaining: 830ms\n",
      "23:\tlearn: 0.0023149\ttotal: 258ms\tremaining: 818ms\n",
      "24:\tlearn: 0.0022870\ttotal: 269ms\tremaining: 807ms\n",
      "25:\tlearn: 0.0022532\ttotal: 280ms\tremaining: 796ms\n",
      "26:\tlearn: 0.0022461\ttotal: 290ms\tremaining: 783ms\n",
      "27:\tlearn: 0.0021938\ttotal: 300ms\tremaining: 771ms\n",
      "28:\tlearn: 0.0021694\ttotal: 310ms\tremaining: 760ms\n",
      "29:\tlearn: 0.0021268\ttotal: 321ms\tremaining: 750ms\n",
      "30:\tlearn: 0.0021203\ttotal: 332ms\tremaining: 740ms\n",
      "31:\tlearn: 0.0020854\ttotal: 343ms\tremaining: 728ms\n",
      "32:\tlearn: 0.0020258\ttotal: 353ms\tremaining: 716ms\n",
      "33:\tlearn: 0.0020177\ttotal: 363ms\tremaining: 704ms\n",
      "34:\tlearn: 0.0020095\ttotal: 373ms\tremaining: 692ms\n",
      "35:\tlearn: 0.0019592\ttotal: 383ms\tremaining: 681ms\n",
      "36:\tlearn: 0.0019533\ttotal: 393ms\tremaining: 670ms\n",
      "37:\tlearn: 0.0019473\ttotal: 405ms\tremaining: 660ms\n",
      "38:\tlearn: 0.0019032\ttotal: 416ms\tremaining: 651ms\n",
      "39:\tlearn: 0.0018208\ttotal: 427ms\tremaining: 640ms\n",
      "40:\tlearn: 0.0018098\ttotal: 436ms\tremaining: 628ms\n",
      "41:\tlearn: 0.0017491\ttotal: 447ms\tremaining: 617ms\n",
      "42:\tlearn: 0.0017126\ttotal: 457ms\tremaining: 606ms\n",
      "43:\tlearn: 0.0017063\ttotal: 467ms\tremaining: 594ms\n",
      "44:\tlearn: 0.0016831\ttotal: 478ms\tremaining: 584ms\n",
      "45:\tlearn: 0.0016523\ttotal: 488ms\tremaining: 573ms\n",
      "46:\tlearn: 0.0015945\ttotal: 499ms\tremaining: 563ms\n",
      "47:\tlearn: 0.0015355\ttotal: 510ms\tremaining: 552ms\n",
      "48:\tlearn: 0.0014905\ttotal: 520ms\tremaining: 541ms\n",
      "49:\tlearn: 0.0014496\ttotal: 530ms\tremaining: 530ms\n",
      "50:\tlearn: 0.0014167\ttotal: 540ms\tremaining: 519ms\n",
      "51:\tlearn: 0.0013885\ttotal: 550ms\tremaining: 508ms\n",
      "52:\tlearn: 0.0013844\ttotal: 560ms\tremaining: 497ms\n",
      "53:\tlearn: 0.0013566\ttotal: 571ms\tremaining: 486ms\n",
      "54:\tlearn: 0.0013256\ttotal: 581ms\tremaining: 476ms\n",
      "55:\tlearn: 0.0013032\ttotal: 592ms\tremaining: 465ms\n",
      "56:\tlearn: 0.0012988\ttotal: 602ms\tremaining: 454ms\n",
      "57:\tlearn: 0.0012732\ttotal: 613ms\tremaining: 444ms\n",
      "58:\tlearn: 0.0012410\ttotal: 624ms\tremaining: 434ms\n",
      "59:\tlearn: 0.0012168\ttotal: 634ms\tremaining: 423ms\n",
      "60:\tlearn: 0.0011895\ttotal: 645ms\tremaining: 412ms\n",
      "61:\tlearn: 0.0011757\ttotal: 655ms\tremaining: 401ms\n",
      "62:\tlearn: 0.0011516\ttotal: 665ms\tremaining: 391ms\n",
      "63:\tlearn: 0.0011259\ttotal: 675ms\tremaining: 380ms\n",
      "64:\tlearn: 0.0011220\ttotal: 685ms\tremaining: 369ms\n",
      "65:\tlearn: 0.0011071\ttotal: 696ms\tremaining: 358ms\n",
      "66:\tlearn: 0.0010824\ttotal: 706ms\tremaining: 348ms\n",
      "67:\tlearn: 0.0010693\ttotal: 716ms\tremaining: 337ms\n",
      "68:\tlearn: 0.0010451\ttotal: 726ms\tremaining: 326ms\n",
      "69:\tlearn: 0.0010177\ttotal: 738ms\tremaining: 316ms\n",
      "70:\tlearn: 0.0009799\ttotal: 749ms\tremaining: 306ms\n",
      "71:\tlearn: 0.0009569\ttotal: 759ms\tremaining: 295ms\n",
      "72:\tlearn: 0.0009376\ttotal: 769ms\tremaining: 285ms\n",
      "73:\tlearn: 0.0009191\ttotal: 780ms\tremaining: 274ms\n",
      "74:\tlearn: 0.0009028\ttotal: 790ms\tremaining: 263ms\n",
      "75:\tlearn: 0.0008846\ttotal: 801ms\tremaining: 253ms\n",
      "76:\tlearn: 0.0008804\ttotal: 811ms\tremaining: 242ms\n",
      "77:\tlearn: 0.0008599\ttotal: 822ms\tremaining: 232ms\n",
      "78:\tlearn: 0.0008565\ttotal: 832ms\tremaining: 221ms\n",
      "79:\tlearn: 0.0008508\ttotal: 843ms\tremaining: 211ms\n",
      "80:\tlearn: 0.0008367\ttotal: 853ms\tremaining: 200ms\n",
      "81:\tlearn: 0.0008270\ttotal: 864ms\tremaining: 190ms\n",
      "82:\tlearn: 0.0008239\ttotal: 874ms\tremaining: 179ms\n",
      "83:\tlearn: 0.0007897\ttotal: 884ms\tremaining: 168ms\n",
      "84:\tlearn: 0.0007757\ttotal: 895ms\tremaining: 158ms\n",
      "85:\tlearn: 0.0007613\ttotal: 905ms\tremaining: 147ms\n",
      "86:\tlearn: 0.0007422\ttotal: 916ms\tremaining: 137ms\n",
      "87:\tlearn: 0.0007340\ttotal: 926ms\tremaining: 126ms\n",
      "88:\tlearn: 0.0007194\ttotal: 936ms\tremaining: 116ms\n",
      "89:\tlearn: 0.0006983\ttotal: 947ms\tremaining: 105ms\n",
      "90:\tlearn: 0.0006878\ttotal: 957ms\tremaining: 94.7ms\n",
      "91:\tlearn: 0.0006722\ttotal: 968ms\tremaining: 84.1ms\n",
      "92:\tlearn: 0.0006505\ttotal: 978ms\tremaining: 73.6ms\n",
      "93:\tlearn: 0.0006301\ttotal: 989ms\tremaining: 63.1ms\n",
      "94:\tlearn: 0.0006171\ttotal: 999ms\tremaining: 52.6ms\n",
      "95:\tlearn: 0.0005994\ttotal: 1.01s\tremaining: 42.1ms\n",
      "96:\tlearn: 0.0005860\ttotal: 1.02s\tremaining: 31.6ms\n",
      "97:\tlearn: 0.0005789\ttotal: 1.03s\tremaining: 21.1ms\n",
      "98:\tlearn: 0.0005663\ttotal: 1.04s\tremaining: 10.5ms\n",
      "99:\tlearn: 0.0005639\ttotal: 1.05s\tremaining: 0us\n"
     ]
    },
    {
     "data": {
      "text/plain": [
       "<catboost.core.CatBoostRegressor at 0x7f73cc2d0a00>"
      ]
     },
     "metadata": {},
     "output_type": "display_data"
    }
   ],
   "source": [
    "# # GridSearchCV를 이용하여 CatBoost 모델을 저장\n",
    "# cbr_params = {'depth': [10], 'learning_rate': [0.01]}\n",
    "            \n",
    "# cbr_model = GridSearchCV(CatBoostRegressor(random_state=1, iterations=100), param_grid=cbr_params, scoring='neg_root_mean_squared_error', cv=2, n_jobs=-1, refit=True) \n",
    "# cbr_model.fit(x_train,y_train)\n",
    "\n",
    "cbr_model = CatBoostRegressor(random_state=1, iterations=100)\n",
    "cbr_model.fit(x_train_,y_train_)"
   ]
  },
  {
   "cell_type": "code",
   "execution_count": null,
   "id": "0b4e74ec",
   "metadata": {
    "id": "0b4e74ec"
   },
   "outputs": [],
   "source": [
    "# 최적의 하이퍼파라미터로 학습된 릿지 회귀 모델을 저장\n",
    "best_ridge = ridge_model.best_estimator_\n",
    "\n",
    "# 최적의 하이퍼파라미터로 학습된 랜덤포레스트 모델을 저장\n",
    "best_rf = rf_model.best_estimator_\n",
    "\n",
    "# 최적의 하이퍼파라미터로 학습된 캣부스트 회귀 모델을 저장\n",
    "best_cbr = cbr_model.best_estimator_"
   ]
  },
  {
   "cell_type": "markdown",
   "id": "2PcYeQBInymH",
   "metadata": {
    "id": "2PcYeQBInymH"
   },
   "source": [
    "<a name='05-04'></a>\n",
    "### 5.4 최종 모델 구축 \n",
    "\n",
    "릿지 모델과 랜덤 포레스트 모델을 평가하고, 이 둘의 조합인 앙상블 모델을 구축합니다.\n"
   ]
  },
  {
   "cell_type": "code",
   "execution_count": null,
   "id": "Ceof_g8Um_Tv",
   "metadata": {
    "colab": {
     "base_uri": "https://localhost:8080/"
    },
    "id": "Ceof_g8Um_Tv",
    "outputId": "5d720369-baa0-45db-9c21-dce56ce0960c"
   },
   "outputs": [
    {
     "name": "stdout",
     "output_type": "stream",
     "text": [
      "\n",
      "**** RIDGE\n",
      "\n",
      "Train RMSE: 4.0353\n",
      "\n",
      "Valid RMSE: 8.5042\n",
      "\n",
      "\n",
      "**** Random Forest\n",
      "\n",
      "Train RMSE: 1.5902\n",
      "\n",
      "Valid RMSE: 6.6581\n",
      "\n",
      "\n",
      "**** CatBoostRegressor\n",
      "\n",
      "Train RMSE: 0.713\n",
      "\n",
      "Valid RMSE: 7.5901\n",
      "\n",
      "\n",
      "**** Ensemble\n",
      "\n",
      "Train RMSE: 1.948\n",
      "\n",
      "Valid RMSE: 6.8632\n",
      "\n"
     ]
    }
   ],
   "source": [
    "# 학습용 데이터셋의 타깃 변수 예측 \n",
    "y_pred_tr_ridge = np.expm1(best_ridge.predict(x_train_))\n",
    "y_pred_tr_rf = np.expm1(best_rf.predict(x_train_))\n",
    "y_pred_tr_cbr = np.expm1(cbr_model.predict(x_train_))\n",
    "\n",
    "# 검증용 데이터셋의 타깃 변수 예측 \n",
    "y_pred_va_ridge = np.expm1(best_ridge.predict(x_valid))\n",
    "y_pred_va_rf = np.expm1(best_rf.predict(x_valid))\n",
    "y_pred_va_cbr = np.expm1(cbr_model.predict(x_valid))\n",
    "\n",
    "\n",
    "# 앙상블 모형의 학습 및 검증 데이터에 대한 타깃 변수 예측 \n",
    "y_pred_tr_en= np.mean([y_pred_tr_ridge, y_pred_tr_rf, y_pred_tr_cbr], axis=0)\n",
    "y_pred_va_en= np.mean([y_pred_va_ridge, y_pred_va_rf, y_pred_va_cbr], axis=0)\n",
    "\n",
    "# 학습 데이터셋의 RMSE 계산 \n",
    "rmse_tr_ridge = rmse(np.expm1(y_train_), y_pred_tr_ridge)\n",
    "rmse_tr_rf = rmse(np.expm1(y_train_), y_pred_tr_rf)\n",
    "rmse_tr_en = rmse(np.expm1(y_train_), y_pred_tr_en)\n",
    "rmse_tr_cbr = rmse(np.expm1(y_train_), y_pred_tr_cbr)\n",
    "\n",
    "# 검증 데이터셋의 RMSE 계산 \n",
    "rmse_va_ridge = rmse(np.expm1(y_valid), y_pred_va_ridge)\n",
    "rmse_va_rf = rmse(np.expm1(y_valid), y_pred_va_rf)\n",
    "rmse_va_en = rmse(np.expm1(y_valid), y_pred_va_en)\n",
    "rmse_va_cbr = rmse(np.expm1(y_valid), y_pred_va_cbr)\n",
    "\n",
    "\n",
    "print(f'\\n**** RIDGE\\n')\n",
    "print(f'Train RMSE: {rmse_tr_ridge}\\n')\n",
    "print(f'Valid RMSE: {rmse_va_ridge}\\n')\n",
    "\n",
    "print(f'\\n**** Random Forest\\n')\n",
    "print(f'Train RMSE: {rmse_tr_rf}\\n')\n",
    "print(f'Valid RMSE: {rmse_va_rf}\\n')\n",
    "\n",
    "print(f'\\n**** CatBoostRegressor\\n')\n",
    "print(f'Train RMSE: {rmse_tr_cbr}\\n')\n",
    "print(f'Valid RMSE: {rmse_va_cbr}\\n')\n",
    "\n",
    "\n",
    "print(f'\\n**** Ensemble\\n')\n",
    "print(f'Train RMSE: {rmse_tr_en}\\n')\n",
    "print(f'Valid RMSE: {rmse_va_en}\\n')"
   ]
  },
  {
   "cell_type": "code",
   "execution_count": null,
   "id": "5faa4230",
   "metadata": {
    "id": "5faa4230"
   },
   "outputs": [],
   "source": [
    "scaler = StandardScaler()\n",
    "x_train[col_numerical] = scaler.fit_transform(x_train[col_numerical])\n",
    "x_test[col_numerical] = scaler.transform(x_test[col_numerical])"
   ]
  },
  {
   "cell_type": "code",
   "execution_count": null,
   "id": "Ghmica0FKuOG",
   "metadata": {
    "id": "Ghmica0FKuOG"
   },
   "outputs": [],
   "source": [
    "y_train = np.log1p(y_train)"
   ]
  },
  {
   "cell_type": "code",
   "execution_count": null,
   "id": "4VF4E4nNJ-ya",
   "metadata": {
    "colab": {
     "base_uri": "https://localhost:8080/"
    },
    "id": "4VF4E4nNJ-ya",
    "outputId": "a04fa728-7481-4788-d249-0317ea449a2f"
   },
   "outputs": [
    {
     "name": "stdout",
     "output_type": "stream",
     "text": [
      "Learning rate set to 0.237657\n",
      "0:\tlearn: 0.0062502\ttotal: 12.6ms\tremaining: 1.24s\n",
      "1:\tlearn: 0.0060661\ttotal: 22.6ms\tremaining: 1.11s\n",
      "2:\tlearn: 0.0059122\ttotal: 32.3ms\tremaining: 1.04s\n",
      "3:\tlearn: 0.0057648\ttotal: 41.8ms\tremaining: 1s\n",
      "4:\tlearn: 0.0056872\ttotal: 51.5ms\tremaining: 979ms\n",
      "5:\tlearn: 0.0055641\ttotal: 61.1ms\tremaining: 958ms\n",
      "6:\tlearn: 0.0054438\ttotal: 70.8ms\tremaining: 941ms\n",
      "7:\tlearn: 0.0053697\ttotal: 80.4ms\tremaining: 924ms\n",
      "8:\tlearn: 0.0052722\ttotal: 89.9ms\tremaining: 909ms\n",
      "9:\tlearn: 0.0051790\ttotal: 99.6ms\tremaining: 897ms\n",
      "10:\tlearn: 0.0051081\ttotal: 110ms\tremaining: 886ms\n",
      "11:\tlearn: 0.0050302\ttotal: 119ms\tremaining: 875ms\n",
      "12:\tlearn: 0.0049715\ttotal: 129ms\tremaining: 863ms\n",
      "13:\tlearn: 0.0049095\ttotal: 138ms\tremaining: 849ms\n",
      "14:\tlearn: 0.0048536\ttotal: 148ms\tremaining: 840ms\n",
      "15:\tlearn: 0.0047468\ttotal: 158ms\tremaining: 828ms\n",
      "16:\tlearn: 0.0046790\ttotal: 167ms\tremaining: 818ms\n",
      "17:\tlearn: 0.0045858\ttotal: 177ms\tremaining: 807ms\n",
      "18:\tlearn: 0.0045080\ttotal: 187ms\tremaining: 797ms\n",
      "19:\tlearn: 0.0044161\ttotal: 197ms\tremaining: 788ms\n",
      "20:\tlearn: 0.0043537\ttotal: 208ms\tremaining: 781ms\n",
      "21:\tlearn: 0.0042548\ttotal: 217ms\tremaining: 769ms\n",
      "22:\tlearn: 0.0041823\ttotal: 227ms\tremaining: 759ms\n",
      "23:\tlearn: 0.0041615\ttotal: 236ms\tremaining: 749ms\n",
      "24:\tlearn: 0.0041098\ttotal: 246ms\tremaining: 739ms\n",
      "25:\tlearn: 0.0040410\ttotal: 256ms\tremaining: 728ms\n",
      "26:\tlearn: 0.0039840\ttotal: 266ms\tremaining: 718ms\n",
      "27:\tlearn: 0.0039054\ttotal: 275ms\tremaining: 708ms\n",
      "28:\tlearn: 0.0038738\ttotal: 285ms\tremaining: 698ms\n",
      "29:\tlearn: 0.0038200\ttotal: 294ms\tremaining: 687ms\n",
      "30:\tlearn: 0.0037803\ttotal: 304ms\tremaining: 677ms\n",
      "31:\tlearn: 0.0036929\ttotal: 314ms\tremaining: 667ms\n",
      "32:\tlearn: 0.0036784\ttotal: 323ms\tremaining: 657ms\n",
      "33:\tlearn: 0.0036092\ttotal: 333ms\tremaining: 647ms\n",
      "34:\tlearn: 0.0035532\ttotal: 343ms\tremaining: 636ms\n",
      "35:\tlearn: 0.0034774\ttotal: 352ms\tremaining: 627ms\n",
      "36:\tlearn: 0.0034688\ttotal: 362ms\tremaining: 617ms\n",
      "37:\tlearn: 0.0034322\ttotal: 373ms\tremaining: 608ms\n",
      "38:\tlearn: 0.0034209\ttotal: 382ms\tremaining: 598ms\n",
      "39:\tlearn: 0.0033331\ttotal: 392ms\tremaining: 588ms\n",
      "40:\tlearn: 0.0032533\ttotal: 403ms\tremaining: 579ms\n",
      "41:\tlearn: 0.0031906\ttotal: 413ms\tremaining: 570ms\n",
      "42:\tlearn: 0.0031019\ttotal: 422ms\tremaining: 560ms\n",
      "43:\tlearn: 0.0030546\ttotal: 432ms\tremaining: 550ms\n",
      "44:\tlearn: 0.0030463\ttotal: 442ms\tremaining: 540ms\n",
      "45:\tlearn: 0.0029368\ttotal: 454ms\tremaining: 533ms\n",
      "46:\tlearn: 0.0028703\ttotal: 464ms\tremaining: 524ms\n",
      "47:\tlearn: 0.0027988\ttotal: 474ms\tremaining: 513ms\n",
      "48:\tlearn: 0.0027913\ttotal: 484ms\tremaining: 503ms\n",
      "49:\tlearn: 0.0027843\ttotal: 493ms\tremaining: 493ms\n",
      "50:\tlearn: 0.0027268\ttotal: 503ms\tremaining: 483ms\n",
      "51:\tlearn: 0.0026921\ttotal: 512ms\tremaining: 473ms\n",
      "52:\tlearn: 0.0026616\ttotal: 522ms\tremaining: 463ms\n",
      "53:\tlearn: 0.0026306\ttotal: 532ms\tremaining: 453ms\n",
      "54:\tlearn: 0.0025391\ttotal: 542ms\tremaining: 443ms\n",
      "55:\tlearn: 0.0024825\ttotal: 552ms\tremaining: 434ms\n",
      "56:\tlearn: 0.0024171\ttotal: 561ms\tremaining: 424ms\n",
      "57:\tlearn: 0.0023902\ttotal: 571ms\tremaining: 414ms\n",
      "58:\tlearn: 0.0023296\ttotal: 581ms\tremaining: 404ms\n",
      "59:\tlearn: 0.0022819\ttotal: 591ms\tremaining: 394ms\n",
      "60:\tlearn: 0.0022224\ttotal: 601ms\tremaining: 385ms\n",
      "61:\tlearn: 0.0021816\ttotal: 612ms\tremaining: 375ms\n",
      "62:\tlearn: 0.0021761\ttotal: 621ms\tremaining: 365ms\n",
      "63:\tlearn: 0.0021696\ttotal: 631ms\tremaining: 355ms\n",
      "64:\tlearn: 0.0021180\ttotal: 640ms\tremaining: 345ms\n",
      "65:\tlearn: 0.0020951\ttotal: 650ms\tremaining: 335ms\n",
      "66:\tlearn: 0.0020445\ttotal: 660ms\tremaining: 325ms\n",
      "67:\tlearn: 0.0020147\ttotal: 670ms\tremaining: 315ms\n",
      "68:\tlearn: 0.0020100\ttotal: 679ms\tremaining: 305ms\n",
      "69:\tlearn: 0.0019793\ttotal: 689ms\tremaining: 295ms\n",
      "70:\tlearn: 0.0019193\ttotal: 699ms\tremaining: 285ms\n",
      "71:\tlearn: 0.0019027\ttotal: 709ms\tremaining: 276ms\n",
      "72:\tlearn: 0.0018979\ttotal: 718ms\tremaining: 266ms\n",
      "73:\tlearn: 0.0018479\ttotal: 729ms\tremaining: 256ms\n",
      "74:\tlearn: 0.0018259\ttotal: 740ms\tremaining: 247ms\n",
      "75:\tlearn: 0.0018220\ttotal: 750ms\tremaining: 237ms\n",
      "76:\tlearn: 0.0017835\ttotal: 766ms\tremaining: 229ms\n",
      "77:\tlearn: 0.0017790\ttotal: 775ms\tremaining: 219ms\n",
      "78:\tlearn: 0.0017717\ttotal: 785ms\tremaining: 209ms\n",
      "79:\tlearn: 0.0017690\ttotal: 795ms\tremaining: 199ms\n",
      "80:\tlearn: 0.0017377\ttotal: 805ms\tremaining: 189ms\n",
      "81:\tlearn: 0.0017065\ttotal: 816ms\tremaining: 179ms\n",
      "82:\tlearn: 0.0016545\ttotal: 825ms\tremaining: 169ms\n",
      "83:\tlearn: 0.0016127\ttotal: 835ms\tremaining: 159ms\n",
      "84:\tlearn: 0.0015751\ttotal: 845ms\tremaining: 149ms\n",
      "85:\tlearn: 0.0015266\ttotal: 855ms\tremaining: 139ms\n",
      "86:\tlearn: 0.0015231\ttotal: 865ms\tremaining: 129ms\n",
      "87:\tlearn: 0.0014946\ttotal: 874ms\tremaining: 119ms\n",
      "88:\tlearn: 0.0014631\ttotal: 884ms\tremaining: 109ms\n",
      "89:\tlearn: 0.0014361\ttotal: 894ms\tremaining: 99.3ms\n",
      "90:\tlearn: 0.0013991\ttotal: 904ms\tremaining: 89.4ms\n",
      "91:\tlearn: 0.0013771\ttotal: 913ms\tremaining: 79.4ms\n",
      "92:\tlearn: 0.0013682\ttotal: 922ms\tremaining: 69.4ms\n",
      "93:\tlearn: 0.0013402\ttotal: 932ms\tremaining: 59.5ms\n",
      "94:\tlearn: 0.0013044\ttotal: 942ms\tremaining: 49.6ms\n",
      "95:\tlearn: 0.0012811\ttotal: 951ms\tremaining: 39.6ms\n",
      "96:\tlearn: 0.0012519\ttotal: 961ms\tremaining: 29.7ms\n",
      "97:\tlearn: 0.0012344\ttotal: 970ms\tremaining: 19.8ms\n",
      "98:\tlearn: 0.0012121\ttotal: 980ms\tremaining: 9.9ms\n",
      "99:\tlearn: 0.0011866\ttotal: 990ms\tremaining: 0us\n"
     ]
    },
    {
     "data": {
      "text/plain": [
       "<catboost.core.CatBoostRegressor at 0x7f73c7bbffd0>"
      ]
     },
     "metadata": {},
     "output_type": "display_data"
    }
   ],
   "source": [
    "rf_params = {'max_features': [5,6], 'n_estimators': [120, 200]}\n",
    "rf_model_test = GridSearchCV(RandomForestRegressor(random_state=1), param_grid=rf_params, scoring='neg_root_mean_squared_error', refit=True) \n",
    "rf_model_test.fit(x_train,y_train) \n",
    "\n",
    "best_rf_test = rf_model_test.best_estimator_\n",
    "\n",
    "cbr_model_test = CatBoostRegressor(random_state=1, iterations=100)\n",
    "cbr_model_test.fit(x_train,y_train)"
   ]
  },
  {
   "cell_type": "code",
   "execution_count": null,
   "id": "aa817964",
   "metadata": {
    "colab": {
     "base_uri": "https://localhost:8080/"
    },
    "id": "aa817964",
    "outputId": "76cc4205-a6ac-44d0-c580-e7abdea1acf9"
   },
   "outputs": [
    {
     "name": "stdout",
     "output_type": "stream",
     "text": [
      "Ensemble: Test RMSE: 7.0707\n",
      "CBR: Test RMSE: 7.2802\n",
      "RF: Test RMSE: 7.1301\n"
     ]
    }
   ],
   "source": [
    "y_pred_test_rf = np.expm1(best_rf_test.predict(x_test))\n",
    "y_pred_test_cbr = np.expm1(cbr_model_test.predict(x_test))\n",
    "y_pred_test_en= np.mean([y_pred_test_rf, y_pred_test_cbr], axis=0)\n",
    "\n",
    "rmse_test_en = rmse(np.expm1(y_test), y_pred_test_en)\n",
    "rmse_test_cbr = rmse(np.expm1(y_test), y_pred_test_cbr)\n",
    "rmse_test_rf = rmse(np.expm1(y_test), y_pred_test_rf)\n",
    "\n",
    "print(f'Ensemble: Test RMSE: {rmse_test_en}')\n",
    "print(f'CBR: Test RMSE: {rmse_test_cbr}')\n",
    "print(f'RF: Test RMSE: {rmse_test_rf}')"
   ]
  },
  {
   "cell_type": "code",
   "execution_count": null,
   "id": "59fc0d4a",
   "metadata": {
    "colab": {
     "base_uri": "https://localhost:8080/",
     "height": 283
    },
    "id": "59fc0d4a",
    "outputId": "6c26ff9f-c4a5-4163-dc66-d470383b801e"
   },
   "outputs": [
    {
     "data": {
      "text/plain": [
       "[<matplotlib.lines.Line2D at 0x7f73cad30e20>]"
      ]
     },
     "metadata": {},
     "output_type": "display_data"
    },
    {
     "data": {
      "image/png": "[encoded data removed]",
      "text/plain": [
       "<Figure size 432x288 with 1 Axes>"
      ]
     },
     "metadata": {},
     "output_type": "display_data"
    }
   ],
   "source": [
    "plt.scatter(np.expm1(y_valid), y_pred_va_en)\n",
    "x = np.linspace(1240,1290)\n",
    "y = np.linspace(1240,1290)\n",
    "plt.plot(x,y)"
   ]
  },
  {
   "cell_type": "markdown",
   "id": "kNTiZkBar4Ti",
   "metadata": {
    "id": "kNTiZkBar4Ti"
   },
   "source": [
    "테스트 데이터로 세가지 모델에 대한 성능을 비교합니다."
   ]
  },
  {
   "cell_type": "code",
   "execution_count": null,
   "id": "fp2tYvMbJRTv",
   "metadata": {
    "colab": {
     "base_uri": "https://localhost:8080/",
     "height": 283
    },
    "id": "fp2tYvMbJRTv",
    "outputId": "e9f339f8-97c9-4b12-d153-adc8d5a5a543"
   },
   "outputs": [
    {
     "data": {
      "image/png": "[encoded data removed]",
      "text/plain": [
       "<Figure size 432x288 with 1 Axes>"
      ]
     },
     "metadata": {},
     "output_type": "display_data"
    }
   ],
   "source": [
    "recap_model = ['RIDGE','RF','Ensemble']\n",
    "rmse_valid = [rmse_test_en,rmse_test_rf,rmse_test_cbr]\n",
    "df_recap = pd.DataFrame({'Model':recap_model, 'Valid_RMSE':rmse_valid})\n",
    "ax = sns.barplot(x='Model',y='Valid_RMSE',data=df_recap,palette='Blues_d')\n",
    "ax.set_ylim([5,9])\n",
    "plt.show()"
   ]
  },
  {
   "attachments": {},
   "cell_type": "markdown",
   "id": "VxaSYzmwsWeW",
   "metadata": {
    "id": "VxaSYzmwsWeW"
   },
   "source": [
    "랜덤 포레스트와 같은 트리 기반 모델에서는 각 변수의 중요도 정보를 함께 제공\n",
    "\n",
    "특정 변수로 분기되었을 시 제곱오차(squared_error)가 크게 감소한 변수일수록 중요도가 향상\n",
    "\n",
    "분류 문제일 경우에는, 불순도(Gini, entropy)가 크게 감소할수록 해당 특성의 중요도가 향상\n",
    "\n",
    "전체 변수의 중요도 합은 1이며, 이는 상대적 의미를 가짐"
   ]
  },
  {
   "cell_type": "code",
   "execution_count": null,
   "id": "041a536e",
   "metadata": {
    "colab": {
     "base_uri": "https://localhost:8080/"
    },
    "id": "041a536e",
    "outputId": "80ce988a-4a10-436c-82a7-a2fc9c9b8181"
   },
   "outputs": [
    {
     "name": "stdout",
     "output_type": "stream",
     "text": [
      "*** MODEL R2_SCORE\n",
      "rf : 0.15946752359228278\n",
      "CBR : 0.12371272694334823\n",
      "Ensemble : 0.17342489441307707\n"
     ]
    }
   ],
   "source": [
    "print('*** MODEL R2_SCORE')\n",
    "print('rf :',r2_score(np.expm1(y_test), y_pred_test_rf))\n",
    "print('CBR :',r2_score(np.expm1(y_test), y_pred_test_cbr))\n",
    "print('Ensemble :',r2_score(np.expm1(y_test), y_pred_test_en))"
   ]
  },
  {
   "cell_type": "code",
   "execution_count": null,
   "id": "EmBOMaYK49gt",
   "metadata": {
    "id": "EmBOMaYK49gt"
   },
   "outputs": [],
   "source": [
    "def objectiveCBR(trial):\n",
    "\n",
    "    param = {\n",
    "        'iterations':trial.suggest_int(\"iterations\", 4000, 25000),\n",
    "        'od_wait':trial.suggest_int('od_wait', 500, 2300),\n",
    "        'learning_rate' : trial.suggest_uniform('learning_rate',0.01, 1),\n",
    "        'reg_lambda': trial.suggest_uniform('reg_lambda',1e-5,100),\n",
    "        'subsample': trial.suggest_uniform('subsample',0,1),\n",
    "        'random_strength': trial.suggest_uniform('random_strength',10,50),\n",
    "        'depth': trial.suggest_int('depth',1, 15),\n",
    "        'min_data_in_leaf': trial.suggest_int('min_data_in_leaf',1,30),\n",
    "        'leaf_estimation_iterations': trial.suggest_int('leaf_estimation_iterations',1,15),\n",
    "        'bagging_temperature' :trial.suggest_loguniform('bagging_temperature', 0.01, 100.00),\n",
    "        'colsample_bylevel':trial.suggest_float('colsample_bylevel', 0.4, 1.0),\n",
    "    }\n",
    "\n",
    "    # 학습 모델 생성\n",
    "    model = CatBoostRegressor(**param)\n",
    "    cbr_model = model.fit(x_train, y_train, verbose=True) # 학습 진행\n",
    "\n",
    "    # 모델 성능 확인\n",
    "    y_pred_test_cbr = np.expm1(cbr_model.predict(x_test))\n",
    "    rmse_test_cbr = rmse(np.expm1(y_test), y_pred_test_cbr)\n",
    "  \n",
    "    return rmse_test_cbr"
   ]
  },
  {
   "cell_type": "code",
   "execution_count": null,
   "id": "f493098d",
   "metadata": {},
   "outputs": [],
   "source": [
    "# optuna 진행\n",
    "cbr_study = optuna.create_study(direction=\"minimize\")\n",
    "\n",
    "cbr_study.optimize(objectiveCBR, n_trials=50, timeout=600)"
   ]
  },
  {
   "cell_type": "code",
   "execution_count": null,
   "id": "rF-MbSOH-Iz0",
   "metadata": {
    "id": "rF-MbSOH-Iz0"
   },
   "outputs": [],
   "source": [
    "print(\"Number of finished trials: {}\".format(len(cbr_study.trials)))\n",
    "\n",
    "print(\"Best trial:\")\n",
    "trial = cbr_study.best_trial\n",
    "\n",
    "print(\"  Value: {}\".format(trial.value))\n",
    "\n",
    "print(\"  Params: \")\n",
    "for key, value in trial.params.items():\n",
    "    print(\"    {}: {}\".format(key, value))"
   ]
  },
  {
   "cell_type": "code",
   "execution_count": null,
   "id": "sHLjVk9CCEPW",
   "metadata": {
    "id": "sHLjVk9CCEPW"
   },
   "outputs": [],
   "source": [
    "def objectiveRF(trial):\n",
    "\n",
    "    param = {\n",
    "            'n_estimators': trial.suggest_int('n_estimators', 50, 1000),\n",
    "            'max_depth': trial.suggest_int('max_depth', 4, 50),\n",
    "            'min_samples_split': trial.suggest_int('min_samples_split', 1, 150),\n",
    "            'min_samples_leaf': trial.suggest_int('min_samples_leaf', 1, 60),\n",
    "        }\n",
    "\n",
    "    # 학습 모델 생성\n",
    "    model = RandomForestRegressor(**param)\n",
    "    rf_model = model.fit(x_train, y_train) # 학습 진행\n",
    "\n",
    "    # 모델 성능 확인\n",
    "    y_pred_test_rf = np.expm1(rf_model.predict(x_test))\n",
    "    rmse_test_rf = rmse(np.expm1(y_test), y_pred_test_rf)\n",
    "  \n",
    "    return rmse_test_rf"
   ]
  },
  {
   "cell_type": "code",
   "execution_count": null,
   "id": "ULDDUQiSJpCj",
   "metadata": {
    "id": "ULDDUQiSJpCj"
   },
   "outputs": [],
   "source": [
    "rf_study = optuna.create_study(direction=\"minimize\")\n",
    "\n",
    "rf_study.optimize(objectiveRF, n_trials=50, timeout=600)"
   ]
  },
  {
   "cell_type": "code",
   "execution_count": null,
   "id": "gtM6PZ4GJzLJ",
   "metadata": {
    "id": "gtM6PZ4GJzLJ"
   },
   "outputs": [],
   "source": [
    "print(\"Number of finished trials: {}\".format(len(rf_study.trials)))\n",
    "\n",
    "print(\"Best trial:\")\n",
    "trial = rf_study.best_trial\n",
    "\n",
    "print(\"  Value: {}\".format(trial.value))\n",
    "\n",
    "print(\"  Params: \")\n",
    "for key, value in trial.params.items():\n",
    "    print(\"    {}: {}\".format(key, value))"
   ]
  }
 ],
 "metadata": {
  "kernelspec": {
   "display_name": "Python 3",
   "language": "python",
   "name": "python3"
  },
  "language_info": {
   "name": "python",
   "version": "3.10.9 (v3.10.9:1dd9be6584, Dec  6 2022, 14:37:36) [Clang 13.0.0 (clang-1300.0.29.30)]"
  },
  "orig_nbformat": 4,
  "vscode": {
   "interpreter": {
    "hash": "aee8b7b246df8f9039afb4144a1f6fd8d2ca17a180786b69acc140d282b71a49"
   }
  }
 },
 "nbformat": 4,
 "nbformat_minor": 2
}
