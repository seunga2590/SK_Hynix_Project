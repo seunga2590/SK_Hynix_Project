{
  "cells": [
    {
      "cell_type": "markdown",
      "metadata": {
        "id": "3d2c01ca"
      },
      "source": [
        "### Modeling(Ridge, Random Forest Optuna)"
      ]
    },
    {
      "cell_type": "code",
      "execution_count": null,
      "metadata": {
        "id": "f290ca51"
      },
      "outputs": [],
      "source": [
        "scaler = StandardScaler()\n",
        "# 학습 데이터 각 변수의 평균값과 표준편차를 저장한 후, 이를 사용하여 학습 및 평가용 데이터를 변환\n",
        "x_train_[col_numerical] = scaler.fit_transform(x_train_[col_numerical])\n",
        "x_valid[col_numerical] = scaler.transform(x_valid[col_numerical])"
      ]
    },
    {
      "cell_type": "code",
      "execution_count": null,
      "metadata": {
        "id": "a6db88f7",
        "outputId": "f837aeba-05ff-41f8-a6d2-1bfd446ec7a2"
      },
      "outputs": [
        {
          "data": {
            "text/html": [
              "<div>\n",
              "<style scoped>\n",
              "    .dataframe tbody tr th:only-of-type {\n",
              "        vertical-align: middle;\n",
              "    }\n",
              "\n",
              "    .dataframe tbody tr th {\n",
              "        vertical-align: top;\n",
              "    }\n",
              "\n",
              "    .dataframe thead th {\n",
              "        text-align: right;\n",
              "    }\n",
              "</style>\n",
              "<table border=\"1\" class=\"dataframe\">\n",
              "  <thead>\n",
              "    <tr style=\"text-align: right;\">\n",
              "      <th></th>\n",
              "      <th>04_gas_para15</th>\n",
              "      <th>04_hv_para47</th>\n",
              "      <th>04_temp_para32</th>\n",
              "      <th>04_time_para16</th>\n",
              "      <th>04_time_para29</th>\n",
              "      <th>04_time_para30</th>\n",
              "      <th>04_time_para34</th>\n",
              "      <th>04_time_para37</th>\n",
              "      <th>04_time_para42</th>\n",
              "      <th>04_time_para43</th>\n",
              "      <th>...</th>\n",
              "      <th>cut_20_gas_para19_f</th>\n",
              "      <th>cut_20_gas_para19_g</th>\n",
              "      <th>cut_20_hv_para3_a</th>\n",
              "      <th>cut_20_hv_para3_b</th>\n",
              "      <th>cut_20_hv_para3_c</th>\n",
              "      <th>cut_20_hv_para3_d</th>\n",
              "      <th>cut_17_fr_para35_A</th>\n",
              "      <th>cut_17_fr_para35_B</th>\n",
              "      <th>cut_20_fr_para35_A</th>\n",
              "      <th>cut_20_fr_para35_B</th>\n",
              "    </tr>\n",
              "  </thead>\n",
              "  <tbody>\n",
              "    <tr>\n",
              "      <th>0</th>\n",
              "      <td>1599.912801</td>\n",
              "      <td>150.00000</td>\n",
              "      <td>19.972727</td>\n",
              "      <td>1952.9166</td>\n",
              "      <td>607.85000</td>\n",
              "      <td>17.266666</td>\n",
              "      <td>1189.68330</td>\n",
              "      <td>607.85000</td>\n",
              "      <td>1952.9166</td>\n",
              "      <td>1952.9166</td>\n",
              "      <td>...</td>\n",
              "      <td>0</td>\n",
              "      <td>0</td>\n",
              "      <td>0</td>\n",
              "      <td>1</td>\n",
              "      <td>0</td>\n",
              "      <td>0</td>\n",
              "      <td>0</td>\n",
              "      <td>1</td>\n",
              "      <td>0</td>\n",
              "      <td>1</td>\n",
              "    </tr>\n",
              "    <tr>\n",
              "      <th>1</th>\n",
              "      <td>1600.000000</td>\n",
              "      <td>149.96774</td>\n",
              "      <td>19.994118</td>\n",
              "      <td>3685.3667</td>\n",
              "      <td>870.78330</td>\n",
              "      <td>870.783300</td>\n",
              "      <td>949.43335</td>\n",
              "      <td>870.78330</td>\n",
              "      <td>3685.3667</td>\n",
              "      <td>3685.3667</td>\n",
              "      <td>...</td>\n",
              "      <td>0</td>\n",
              "      <td>0</td>\n",
              "      <td>0</td>\n",
              "      <td>1</td>\n",
              "      <td>0</td>\n",
              "      <td>0</td>\n",
              "      <td>1</td>\n",
              "      <td>0</td>\n",
              "      <td>1</td>\n",
              "      <td>0</td>\n",
              "    </tr>\n",
              "    <tr>\n",
              "      <th>2</th>\n",
              "      <td>1600.000000</td>\n",
              "      <td>150.00000</td>\n",
              "      <td>19.969696</td>\n",
              "      <td>2574.4333</td>\n",
              "      <td>837.63336</td>\n",
              "      <td>2574.433300</td>\n",
              "      <td>2574.43330</td>\n",
              "      <td>246.35000</td>\n",
              "      <td>2574.4333</td>\n",
              "      <td>2574.4333</td>\n",
              "      <td>...</td>\n",
              "      <td>0</td>\n",
              "      <td>0</td>\n",
              "      <td>0</td>\n",
              "      <td>1</td>\n",
              "      <td>0</td>\n",
              "      <td>0</td>\n",
              "      <td>1</td>\n",
              "      <td>0</td>\n",
              "      <td>1</td>\n",
              "      <td>0</td>\n",
              "    </tr>\n",
              "    <tr>\n",
              "      <th>3</th>\n",
              "      <td>1600.000000</td>\n",
              "      <td>149.75000</td>\n",
              "      <td>19.975000</td>\n",
              "      <td>2834.9500</td>\n",
              "      <td>27.41667</td>\n",
              "      <td>27.416670</td>\n",
              "      <td>27.68333</td>\n",
              "      <td>27.41667</td>\n",
              "      <td>2834.9500</td>\n",
              "      <td>2834.9500</td>\n",
              "      <td>...</td>\n",
              "      <td>0</td>\n",
              "      <td>0</td>\n",
              "      <td>0</td>\n",
              "      <td>0</td>\n",
              "      <td>1</td>\n",
              "      <td>0</td>\n",
              "      <td>1</td>\n",
              "      <td>0</td>\n",
              "      <td>1</td>\n",
              "      <td>0</td>\n",
              "    </tr>\n",
              "    <tr>\n",
              "      <th>4</th>\n",
              "      <td>1599.920001</td>\n",
              "      <td>150.00000</td>\n",
              "      <td>19.972730</td>\n",
              "      <td>1933.3000</td>\n",
              "      <td>588.25000</td>\n",
              "      <td>1933.300000</td>\n",
              "      <td>1170.08300</td>\n",
              "      <td>588.25000</td>\n",
              "      <td>1933.3000</td>\n",
              "      <td>1933.3000</td>\n",
              "      <td>...</td>\n",
              "      <td>0</td>\n",
              "      <td>0</td>\n",
              "      <td>0</td>\n",
              "      <td>1</td>\n",
              "      <td>0</td>\n",
              "      <td>0</td>\n",
              "      <td>0</td>\n",
              "      <td>1</td>\n",
              "      <td>0</td>\n",
              "      <td>1</td>\n",
              "    </tr>\n",
              "    <tr>\n",
              "      <th>...</th>\n",
              "      <td>...</td>\n",
              "      <td>...</td>\n",
              "      <td>...</td>\n",
              "      <td>...</td>\n",
              "      <td>...</td>\n",
              "      <td>...</td>\n",
              "      <td>...</td>\n",
              "      <td>...</td>\n",
              "      <td>...</td>\n",
              "      <td>...</td>\n",
              "      <td>...</td>\n",
              "      <td>...</td>\n",
              "      <td>...</td>\n",
              "      <td>...</td>\n",
              "      <td>...</td>\n",
              "      <td>...</td>\n",
              "      <td>...</td>\n",
              "      <td>...</td>\n",
              "      <td>...</td>\n",
              "      <td>...</td>\n",
              "      <td>...</td>\n",
              "    </tr>\n",
              "    <tr>\n",
              "      <th>1438</th>\n",
              "      <td>1600.000000</td>\n",
              "      <td>150.00000</td>\n",
              "      <td>19.987879</td>\n",
              "      <td>1909.3000</td>\n",
              "      <td>223.28334</td>\n",
              "      <td>140.233340</td>\n",
              "      <td>1909.30000</td>\n",
              "      <td>223.28334</td>\n",
              "      <td>1909.3000</td>\n",
              "      <td>1909.3000</td>\n",
              "      <td>...</td>\n",
              "      <td>0</td>\n",
              "      <td>0</td>\n",
              "      <td>0</td>\n",
              "      <td>1</td>\n",
              "      <td>0</td>\n",
              "      <td>0</td>\n",
              "      <td>1</td>\n",
              "      <td>0</td>\n",
              "      <td>1</td>\n",
              "      <td>0</td>\n",
              "    </tr>\n",
              "    <tr>\n",
              "      <th>1439</th>\n",
              "      <td>1600.000000</td>\n",
              "      <td>150.00000</td>\n",
              "      <td>19.990910</td>\n",
              "      <td>1875.1330</td>\n",
              "      <td>189.11670</td>\n",
              "      <td>106.083300</td>\n",
              "      <td>1875.13300</td>\n",
              "      <td>189.11670</td>\n",
              "      <td>1875.1330</td>\n",
              "      <td>1875.1330</td>\n",
              "      <td>...</td>\n",
              "      <td>0</td>\n",
              "      <td>0</td>\n",
              "      <td>0</td>\n",
              "      <td>1</td>\n",
              "      <td>0</td>\n",
              "      <td>0</td>\n",
              "      <td>1</td>\n",
              "      <td>0</td>\n",
              "      <td>1</td>\n",
              "      <td>0</td>\n",
              "    </tr>\n",
              "    <tr>\n",
              "      <th>1440</th>\n",
              "      <td>1600.000000</td>\n",
              "      <td>150.00000</td>\n",
              "      <td>19.990910</td>\n",
              "      <td>1875.1330</td>\n",
              "      <td>189.11670</td>\n",
              "      <td>106.083300</td>\n",
              "      <td>1875.13300</td>\n",
              "      <td>189.11670</td>\n",
              "      <td>1875.1330</td>\n",
              "      <td>1875.1330</td>\n",
              "      <td>...</td>\n",
              "      <td>0</td>\n",
              "      <td>0</td>\n",
              "      <td>0</td>\n",
              "      <td>1</td>\n",
              "      <td>0</td>\n",
              "      <td>0</td>\n",
              "      <td>1</td>\n",
              "      <td>0</td>\n",
              "      <td>1</td>\n",
              "      <td>0</td>\n",
              "    </tr>\n",
              "    <tr>\n",
              "      <th>1441</th>\n",
              "      <td>1600.000000</td>\n",
              "      <td>150.00000</td>\n",
              "      <td>19.990910</td>\n",
              "      <td>1875.1330</td>\n",
              "      <td>189.11670</td>\n",
              "      <td>106.083300</td>\n",
              "      <td>1875.13300</td>\n",
              "      <td>189.11670</td>\n",
              "      <td>1875.1330</td>\n",
              "      <td>1875.1330</td>\n",
              "      <td>...</td>\n",
              "      <td>0</td>\n",
              "      <td>0</td>\n",
              "      <td>0</td>\n",
              "      <td>1</td>\n",
              "      <td>0</td>\n",
              "      <td>0</td>\n",
              "      <td>1</td>\n",
              "      <td>0</td>\n",
              "      <td>1</td>\n",
              "      <td>0</td>\n",
              "    </tr>\n",
              "    <tr>\n",
              "      <th>1442</th>\n",
              "      <td>1600.000000</td>\n",
              "      <td>150.00000</td>\n",
              "      <td>19.990910</td>\n",
              "      <td>1875.1330</td>\n",
              "      <td>189.11670</td>\n",
              "      <td>106.083300</td>\n",
              "      <td>1875.13300</td>\n",
              "      <td>189.11670</td>\n",
              "      <td>1875.1330</td>\n",
              "      <td>1875.1330</td>\n",
              "      <td>...</td>\n",
              "      <td>0</td>\n",
              "      <td>0</td>\n",
              "      <td>0</td>\n",
              "      <td>1</td>\n",
              "      <td>0</td>\n",
              "      <td>0</td>\n",
              "      <td>1</td>\n",
              "      <td>0</td>\n",
              "      <td>1</td>\n",
              "      <td>0</td>\n",
              "    </tr>\n",
              "  </tbody>\n",
              "</table>\n",
              "<p>1443 rows × 418 columns</p>\n",
              "</div>"
            ],
            "text/plain": [
              "      04_gas_para15  04_hv_para47  04_temp_para32  04_time_para16  \\\n",
              "0       1599.912801     150.00000       19.972727       1952.9166   \n",
              "1       1600.000000     149.96774       19.994118       3685.3667   \n",
              "2       1600.000000     150.00000       19.969696       2574.4333   \n",
              "3       1600.000000     149.75000       19.975000       2834.9500   \n",
              "4       1599.920001     150.00000       19.972730       1933.3000   \n",
              "...             ...           ...             ...             ...   \n",
              "1438    1600.000000     150.00000       19.987879       1909.3000   \n",
              "1439    1600.000000     150.00000       19.990910       1875.1330   \n",
              "1440    1600.000000     150.00000       19.990910       1875.1330   \n",
              "1441    1600.000000     150.00000       19.990910       1875.1330   \n",
              "1442    1600.000000     150.00000       19.990910       1875.1330   \n",
              "\n",
              "      04_time_para29  04_time_para30  04_time_para34  04_time_para37  \\\n",
              "0          607.85000       17.266666      1189.68330       607.85000   \n",
              "1          870.78330      870.783300       949.43335       870.78330   \n",
              "2          837.63336     2574.433300      2574.43330       246.35000   \n",
              "3           27.41667       27.416670        27.68333        27.41667   \n",
              "4          588.25000     1933.300000      1170.08300       588.25000   \n",
              "...              ...             ...             ...             ...   \n",
              "1438       223.28334      140.233340      1909.30000       223.28334   \n",
              "1439       189.11670      106.083300      1875.13300       189.11670   \n",
              "1440       189.11670      106.083300      1875.13300       189.11670   \n",
              "1441       189.11670      106.083300      1875.13300       189.11670   \n",
              "1442       189.11670      106.083300      1875.13300       189.11670   \n",
              "\n",
              "      04_time_para42  04_time_para43  ...  cut_20_gas_para19_f  \\\n",
              "0          1952.9166       1952.9166  ...                    0   \n",
              "1          3685.3667       3685.3667  ...                    0   \n",
              "2          2574.4333       2574.4333  ...                    0   \n",
              "3          2834.9500       2834.9500  ...                    0   \n",
              "4          1933.3000       1933.3000  ...                    0   \n",
              "...              ...             ...  ...                  ...   \n",
              "1438       1909.3000       1909.3000  ...                    0   \n",
              "1439       1875.1330       1875.1330  ...                    0   \n",
              "1440       1875.1330       1875.1330  ...                    0   \n",
              "1441       1875.1330       1875.1330  ...                    0   \n",
              "1442       1875.1330       1875.1330  ...                    0   \n",
              "\n",
              "      cut_20_gas_para19_g  cut_20_hv_para3_a  cut_20_hv_para3_b  \\\n",
              "0                       0                  0                  1   \n",
              "1                       0                  0                  1   \n",
              "2                       0                  0                  1   \n",
              "3                       0                  0                  0   \n",
              "4                       0                  0                  1   \n",
              "...                   ...                ...                ...   \n",
              "1438                    0                  0                  1   \n",
              "1439                    0                  0                  1   \n",
              "1440                    0                  0                  1   \n",
              "1441                    0                  0                  1   \n",
              "1442                    0                  0                  1   \n",
              "\n",
              "      cut_20_hv_para3_c  cut_20_hv_para3_d  cut_17_fr_para35_A  \\\n",
              "0                     0                  0                   0   \n",
              "1                     0                  0                   1   \n",
              "2                     0                  0                   1   \n",
              "3                     1                  0                   1   \n",
              "4                     0                  0                   0   \n",
              "...                 ...                ...                 ...   \n",
              "1438                  0                  0                   1   \n",
              "1439                  0                  0                   1   \n",
              "1440                  0                  0                   1   \n",
              "1441                  0                  0                   1   \n",
              "1442                  0                  0                   1   \n",
              "\n",
              "      cut_17_fr_para35_B  cut_20_fr_para35_A  cut_20_fr_para35_B  \n",
              "0                      1                   0                   1  \n",
              "1                      0                   1                   0  \n",
              "2                      0                   1                   0  \n",
              "3                      0                   1                   0  \n",
              "4                      1                   0                   1  \n",
              "...                  ...                 ...                 ...  \n",
              "1438                   0                   1                   0  \n",
              "1439                   0                   1                   0  \n",
              "1440                   0                   1                   0  \n",
              "1441                   0                   1                   0  \n",
              "1442                   0                   1                   0  \n",
              "\n",
              "[1443 rows x 418 columns]"
            ]
          },
          "metadata": {},
          "output_type": "display_data"
        }
      ],
      "source": [
        "x_train"
      ]
    },
    {
      "cell_type": "markdown",
      "metadata": {
        "id": "ns1Ofgfyfbqv"
      },
      "source": [
        "모델의 성능 평가를 위해 제곱근평균제곱오차(RMSE)를 반환하는 함수를 작성 "
      ]
    },
    {
      "cell_type": "code",
      "execution_count": null,
      "metadata": {
        "id": "GfCmw1CbkhG1"
      },
      "outputs": [],
      "source": [
        "# mean_squared_error 의 매개변수 squared 가 False 이면 RMSE 를 반환\n",
        "def rmse(y_true,y_pred):\n",
        "\n",
        "    return round(mean_squared_error(y_true, y_pred,squared=False),4)"
      ]
    },
    {
      "cell_type": "markdown",
      "metadata": {
        "id": "6f6d13a0"
      },
      "source": [
        "<a name='05-02'></a>\n",
        "### 5.2 릿지 회귀 모델\n",
        "선형 모델 중 하나인 릿지 모델을 사용, 릿지 모델은 계수의 제곱에 비례하여 벌칙을 부여하는 **L2 정규화**를 사용\n",
        "\n",
        "릿지 회귀 모델에서 튜닝해야할 매개변수는 정규화의 세기를 나타내는 **alpha**\n"
      ]
    },
    {
      "cell_type": "markdown",
      "metadata": {
        "id": "c7da2850"
      },
      "source": [
        "하이퍼파라미터 종류: ['alpha', 'copy_X', 'fit_intercept', 'max_iter', 'positive', 'random_state', 'solver', 'tol']\n",
        "\n",
        "1. alpha: 규제의 강도\n",
        "2. solver: 계산에 사용할 알고리즘\n",
        "3. tol: 정밀도 (solver가 svd와 cholesky일 경우에는 의미 없음.)"
      ]
    },
    {
      "cell_type": "code",
      "execution_count": null,
      "metadata": {
        "id": "mm9V81SLFECV"
      },
      "outputs": [],
      "source": [
        "# log 단위(1e+01)로 1.e-02 ~ 1.e+01 구간에 대해 매개변수를 탐색\n",
        "# solver_list = ['auto', 'svd', 'cholesky', 'lsqr', 'sparse_cg', 'sag', 'saga']\n",
        "ridge_params = {'alpha': np.logspace(-2, 1, 6)}"
      ]
    },
    {
      "cell_type": "markdown",
      "metadata": {
        "id": "hRPEWxK1Fo5x"
      },
      "source": [
        "매개변수 탐색을 위해 그리드 서치 기법을 사용 \n",
        "\n",
        "GridSearchCV는 매개변수 각 조합에 대해 모델을 훈련하고, K-폴드 교차검증으로 평가. cv default = 5 \n",
        "\n",
        "refit=True 로 설정할 경우, 매개변수 탐색 후, 전체 데이터셋에서 최적의 하이퍼파라미터를 사용하여 모델을 재학습"
      ]
    },
    {
      "cell_type": "code",
      "execution_count": null,
      "metadata": {
        "id": "0a39a7c1",
        "outputId": "08a0b5d4-a5b3-4df5-b7bd-531a93d36104"
      },
      "outputs": [
        {
          "data": {
            "text/html": [
              "<style>#sk-container-id-1 {color: black;background-color: white;}#sk-container-id-1 pre{padding: 0;}#sk-container-id-1 div.sk-toggleable {background-color: white;}#sk-container-id-1 label.sk-toggleable__label {cursor: pointer;display: block;width: 100%;margin-bottom: 0;padding: 0.3em;box-sizing: border-box;text-align: center;}#sk-container-id-1 label.sk-toggleable__label-arrow:before {content: \"▸\";float: left;margin-right: 0.25em;color: #696969;}#sk-container-id-1 label.sk-toggleable__label-arrow:hover:before {color: black;}#sk-container-id-1 div.sk-estimator:hover label.sk-toggleable__label-arrow:before {color: black;}#sk-container-id-1 div.sk-toggleable__content {max-height: 0;max-width: 0;overflow: hidden;text-align: left;background-color: #f0f8ff;}#sk-container-id-1 div.sk-toggleable__content pre {margin: 0.2em;color: black;border-radius: 0.25em;background-color: #f0f8ff;}#sk-container-id-1 input.sk-toggleable__control:checked~div.sk-toggleable__content {max-height: 200px;max-width: 100%;overflow: auto;}#sk-container-id-1 input.sk-toggleable__control:checked~label.sk-toggleable__label-arrow:before {content: \"▾\";}#sk-container-id-1 div.sk-estimator input.sk-toggleable__control:checked~label.sk-toggleable__label {background-color: #d4ebff;}#sk-container-id-1 div.sk-label input.sk-toggleable__control:checked~label.sk-toggleable__label {background-color: #d4ebff;}#sk-container-id-1 input.sk-hidden--visually {border: 0;clip: rect(1px 1px 1px 1px);clip: rect(1px, 1px, 1px, 1px);height: 1px;margin: -1px;overflow: hidden;padding: 0;position: absolute;width: 1px;}#sk-container-id-1 div.sk-estimator {font-family: monospace;background-color: #f0f8ff;border: 1px dotted black;border-radius: 0.25em;box-sizing: border-box;margin-bottom: 0.5em;}#sk-container-id-1 div.sk-estimator:hover {background-color: #d4ebff;}#sk-container-id-1 div.sk-parallel-item::after {content: \"\";width: 100%;border-bottom: 1px solid gray;flex-grow: 1;}#sk-container-id-1 div.sk-label:hover label.sk-toggleable__label {background-color: #d4ebff;}#sk-container-id-1 div.sk-serial::before {content: \"\";position: absolute;border-left: 1px solid gray;box-sizing: border-box;top: 0;bottom: 0;left: 50%;z-index: 0;}#sk-container-id-1 div.sk-serial {display: flex;flex-direction: column;align-items: center;background-color: white;padding-right: 0.2em;padding-left: 0.2em;position: relative;}#sk-container-id-1 div.sk-item {position: relative;z-index: 1;}#sk-container-id-1 div.sk-parallel {display: flex;align-items: stretch;justify-content: center;background-color: white;position: relative;}#sk-container-id-1 div.sk-item::before, #sk-container-id-1 div.sk-parallel-item::before {content: \"\";position: absolute;border-left: 1px solid gray;box-sizing: border-box;top: 0;bottom: 0;left: 50%;z-index: -1;}#sk-container-id-1 div.sk-parallel-item {display: flex;flex-direction: column;z-index: 1;position: relative;background-color: white;}#sk-container-id-1 div.sk-parallel-item:first-child::after {align-self: flex-end;width: 50%;}#sk-container-id-1 div.sk-parallel-item:last-child::after {align-self: flex-start;width: 50%;}#sk-container-id-1 div.sk-parallel-item:only-child::after {width: 0;}#sk-container-id-1 div.sk-dashed-wrapped {border: 1px dashed gray;margin: 0 0.4em 0.5em 0.4em;box-sizing: border-box;padding-bottom: 0.4em;background-color: white;}#sk-container-id-1 div.sk-label label {font-family: monospace;font-weight: bold;display: inline-block;line-height: 1.2em;}#sk-container-id-1 div.sk-label-container {text-align: center;}#sk-container-id-1 div.sk-container {/* jupyter's `normalize.less` sets `[hidden] { display: none; }` but bootstrap.min.css set `[hidden] { display: none !important; }` so we also need the `!important` here to be able to override the default hidden behavior on the sphinx rendered scikit-learn.org. See: https://github.com/scikit-learn/scikit-learn/issues/21755 */display: inline-block !important;position: relative;}#sk-container-id-1 div.sk-text-repr-fallback {display: none;}</style><div id=\"sk-container-id-1\" class=\"sk-top-container\"><div class=\"sk-text-repr-fallback\"><pre>GridSearchCV(estimator=Ridge(),\n",
              "             param_grid={&#x27;alpha&#x27;: array([ 0.01      ,  0.03981072,  0.15848932,  0.63095734,  2.51188643,\n",
              "       10.        ])},\n",
              "             scoring=&#x27;neg_root_mean_squared_error&#x27;)</pre><b>In a Jupyter environment, please rerun this cell to show the HTML representation or trust the notebook. <br />On GitHub, the HTML representation is unable to render, please try loading this page with nbviewer.org.</b></div><div class=\"sk-container\" hidden><div class=\"sk-item sk-dashed-wrapped\"><div class=\"sk-label-container\"><div class=\"sk-label sk-toggleable\"><input class=\"sk-toggleable__control sk-hidden--visually\" id=\"sk-estimator-id-1\" type=\"checkbox\" ><label for=\"sk-estimator-id-1\" class=\"sk-toggleable__label sk-toggleable__label-arrow\">GridSearchCV</label><div class=\"sk-toggleable__content\"><pre>GridSearchCV(estimator=Ridge(),\n",
              "             param_grid={&#x27;alpha&#x27;: array([ 0.01      ,  0.03981072,  0.15848932,  0.63095734,  2.51188643,\n",
              "       10.        ])},\n",
              "             scoring=&#x27;neg_root_mean_squared_error&#x27;)</pre></div></div></div><div class=\"sk-parallel\"><div class=\"sk-parallel-item\"><div class=\"sk-item\"><div class=\"sk-label-container\"><div class=\"sk-label sk-toggleable\"><input class=\"sk-toggleable__control sk-hidden--visually\" id=\"sk-estimator-id-2\" type=\"checkbox\" ><label for=\"sk-estimator-id-2\" class=\"sk-toggleable__label sk-toggleable__label-arrow\">estimator: Ridge</label><div class=\"sk-toggleable__content\"><pre>Ridge()</pre></div></div></div><div class=\"sk-serial\"><div class=\"sk-item\"><div class=\"sk-estimator sk-toggleable\"><input class=\"sk-toggleable__control sk-hidden--visually\" id=\"sk-estimator-id-3\" type=\"checkbox\" ><label for=\"sk-estimator-id-3\" class=\"sk-toggleable__label sk-toggleable__label-arrow\">Ridge</label><div class=\"sk-toggleable__content\"><pre>Ridge()</pre></div></div></div></div></div></div></div></div></div></div>"
            ],
            "text/plain": [
              "GridSearchCV(estimator=Ridge(),\n",
              "             param_grid={'alpha': array([ 0.01      ,  0.03981072,  0.15848932,  0.63095734,  2.51188643,\n",
              "       10.        ])},\n",
              "             scoring='neg_root_mean_squared_error')"
            ]
          },
          "metadata": {},
          "output_type": "display_data"
        }
      ],
      "source": [
        "# GridSearchCV를 이용하여 Ridge 모델을 저장\n",
        "ridge_model = GridSearchCV(Ridge(), param_grid=ridge_params, scoring='neg_root_mean_squared_error', refit=True) # error가 작아야 좋기 때문에 negative 지표로\n",
        "ridge_model.fit(x_train_,y_train_)  "
      ]
    },
    {
      "cell_type": "code",
      "execution_count": null,
      "metadata": {
        "id": "8ff849b2",
        "outputId": "4c1f922c-a155-4afe-eaf0-1d34608485a3"
      },
      "outputs": [
        {
          "data": {
            "text/html": [
              "<div>\n",
              "<style scoped>\n",
              "    .dataframe tbody tr th:only-of-type {\n",
              "        vertical-align: middle;\n",
              "    }\n",
              "\n",
              "    .dataframe tbody tr th {\n",
              "        vertical-align: top;\n",
              "    }\n",
              "\n",
              "    .dataframe thead th {\n",
              "        text-align: right;\n",
              "    }\n",
              "</style>\n",
              "<table border=\"1\" class=\"dataframe\">\n",
              "  <thead>\n",
              "    <tr style=\"text-align: right;\">\n",
              "      <th></th>\n",
              "      <th>params</th>\n",
              "      <th>mean_test_score</th>\n",
              "      <th>rank_test_score</th>\n",
              "    </tr>\n",
              "  </thead>\n",
              "  <tbody>\n",
              "    <tr>\n",
              "      <th>0</th>\n",
              "      <td>{'alpha': 0.01}</td>\n",
              "      <td>-0.007559</td>\n",
              "      <td>6</td>\n",
              "    </tr>\n",
              "    <tr>\n",
              "      <th>1</th>\n",
              "      <td>{'alpha': 0.039810717055349734}</td>\n",
              "      <td>-0.006725</td>\n",
              "      <td>5</td>\n",
              "    </tr>\n",
              "    <tr>\n",
              "      <th>2</th>\n",
              "      <td>{'alpha': 0.15848931924611134}</td>\n",
              "      <td>-0.005876</td>\n",
              "      <td>4</td>\n",
              "    </tr>\n",
              "    <tr>\n",
              "      <th>3</th>\n",
              "      <td>{'alpha': 0.630957344480193}</td>\n",
              "      <td>-0.005241</td>\n",
              "      <td>3</td>\n",
              "    </tr>\n",
              "    <tr>\n",
              "      <th>4</th>\n",
              "      <td>{'alpha': 2.5118864315095797}</td>\n",
              "      <td>-0.004717</td>\n",
              "      <td>2</td>\n",
              "    </tr>\n",
              "    <tr>\n",
              "      <th>5</th>\n",
              "      <td>{'alpha': 10.0}</td>\n",
              "      <td>-0.004402</td>\n",
              "      <td>1</td>\n",
              "    </tr>\n",
              "  </tbody>\n",
              "</table>\n",
              "</div>"
            ],
            "text/plain": [
              "                            params  mean_test_score  rank_test_score\n",
              "0                  {'alpha': 0.01}        -0.007559                6\n",
              "1  {'alpha': 0.039810717055349734}        -0.006725                5\n",
              "2   {'alpha': 0.15848931924611134}        -0.005876                4\n",
              "3     {'alpha': 0.630957344480193}        -0.005241                3\n",
              "4    {'alpha': 2.5118864315095797}        -0.004717                2\n",
              "5                  {'alpha': 10.0}        -0.004402                1"
            ]
          },
          "metadata": {},
          "output_type": "display_data"
        }
      ],
      "source": [
        "col_cv_results = ['params','mean_test_score','rank_test_score']\n",
        "pd.DataFrame(ridge_model.cv_results_)[col_cv_results]"
      ]
    },
    {
      "cell_type": "markdown",
      "metadata": {
        "id": "lmOG0YrImSSz"
      },
      "source": [
        "alpha 가 10인 경우, 모델의 성능이 가장 우수"
      ]
    },
    {
      "cell_type": "markdown",
      "metadata": {
        "id": "NazERQf16PD9"
      },
      "source": [
        "<a name=\"05-03\"></a>\n",
        "### 5.3 랜덤 포레스트 모델 \n",
        "랜덤 포레스트는 행 데이터를 샘플링한 후, 병렬로 수행된 다수의 결정 트리로부터 예측한 평균값을 출력 \n",
        "\n",
        "랜덤 포레스트에서 튜닝해야할 변수\n",
        "\n",
        "*  n_estimators : 결정 트리 갯수 ( default : 100 )\n",
        "*  max_depth : 트리의 최대 깊이 ( default : None ) \n",
        "*  min_samples_split : 노드를 분할하기 위한 최소 샘플 갯수 ( default : 2 )\n",
        "*  min_samples_leaf : 리프 노드가 되기 위한 최소 샘플 갯수 ( default : 1 )\n",
        "*  max_features : 각 노드에서 분기시 사용할 최대 특성 갯수 ( default : 1.0 - 전체 특성 갯수 )\n",
        "*  bootstrap : 중복을 허용한 샘플링 여부 ( default : True ) \n",
        "\n",
        "\n",
        "결정 트리의 갯수가 커질수록 계산시간이 증가하므로, 시간과 성능의 트레이드 오프로 결정 "
      ]
    },
    {
      "cell_type": "code",
      "execution_count": null,
      "metadata": {
        "colab": {
          "base_uri": "https://localhost:8080/"
        },
        "id": "VY8oXLOXqisg",
        "outputId": "e1ddc36f-709d-4258-c909-53732d80b6c1"
      },
      "outputs": [
        {
          "data": {
            "text/html": [
              "<style>#sk-container-id-2 {color: black;background-color: white;}#sk-container-id-2 pre{padding: 0;}#sk-container-id-2 div.sk-toggleable {background-color: white;}#sk-container-id-2 label.sk-toggleable__label {cursor: pointer;display: block;width: 100%;margin-bottom: 0;padding: 0.3em;box-sizing: border-box;text-align: center;}#sk-container-id-2 label.sk-toggleable__label-arrow:before {content: \"▸\";float: left;margin-right: 0.25em;color: #696969;}#sk-container-id-2 label.sk-toggleable__label-arrow:hover:before {color: black;}#sk-container-id-2 div.sk-estimator:hover label.sk-toggleable__label-arrow:before {color: black;}#sk-container-id-2 div.sk-toggleable__content {max-height: 0;max-width: 0;overflow: hidden;text-align: left;background-color: #f0f8ff;}#sk-container-id-2 div.sk-toggleable__content pre {margin: 0.2em;color: black;border-radius: 0.25em;background-color: #f0f8ff;}#sk-container-id-2 input.sk-toggleable__control:checked~div.sk-toggleable__content {max-height: 200px;max-width: 100%;overflow: auto;}#sk-container-id-2 input.sk-toggleable__control:checked~label.sk-toggleable__label-arrow:before {content: \"▾\";}#sk-container-id-2 div.sk-estimator input.sk-toggleable__control:checked~label.sk-toggleable__label {background-color: #d4ebff;}#sk-container-id-2 div.sk-label input.sk-toggleable__control:checked~label.sk-toggleable__label {background-color: #d4ebff;}#sk-container-id-2 input.sk-hidden--visually {border: 0;clip: rect(1px 1px 1px 1px);clip: rect(1px, 1px, 1px, 1px);height: 1px;margin: -1px;overflow: hidden;padding: 0;position: absolute;width: 1px;}#sk-container-id-2 div.sk-estimator {font-family: monospace;background-color: #f0f8ff;border: 1px dotted black;border-radius: 0.25em;box-sizing: border-box;margin-bottom: 0.5em;}#sk-container-id-2 div.sk-estimator:hover {background-color: #d4ebff;}#sk-container-id-2 div.sk-parallel-item::after {content: \"\";width: 100%;border-bottom: 1px solid gray;flex-grow: 1;}#sk-container-id-2 div.sk-label:hover label.sk-toggleable__label {background-color: #d4ebff;}#sk-container-id-2 div.sk-serial::before {content: \"\";position: absolute;border-left: 1px solid gray;box-sizing: border-box;top: 0;bottom: 0;left: 50%;z-index: 0;}#sk-container-id-2 div.sk-serial {display: flex;flex-direction: column;align-items: center;background-color: white;padding-right: 0.2em;padding-left: 0.2em;position: relative;}#sk-container-id-2 div.sk-item {position: relative;z-index: 1;}#sk-container-id-2 div.sk-parallel {display: flex;align-items: stretch;justify-content: center;background-color: white;position: relative;}#sk-container-id-2 div.sk-item::before, #sk-container-id-2 div.sk-parallel-item::before {content: \"\";position: absolute;border-left: 1px solid gray;box-sizing: border-box;top: 0;bottom: 0;left: 50%;z-index: -1;}#sk-container-id-2 div.sk-parallel-item {display: flex;flex-direction: column;z-index: 1;position: relative;background-color: white;}#sk-container-id-2 div.sk-parallel-item:first-child::after {align-self: flex-end;width: 50%;}#sk-container-id-2 div.sk-parallel-item:last-child::after {align-self: flex-start;width: 50%;}#sk-container-id-2 div.sk-parallel-item:only-child::after {width: 0;}#sk-container-id-2 div.sk-dashed-wrapped {border: 1px dashed gray;margin: 0 0.4em 0.5em 0.4em;box-sizing: border-box;padding-bottom: 0.4em;background-color: white;}#sk-container-id-2 div.sk-label label {font-family: monospace;font-weight: bold;display: inline-block;line-height: 1.2em;}#sk-container-id-2 div.sk-label-container {text-align: center;}#sk-container-id-2 div.sk-container {/* jupyter's `normalize.less` sets `[hidden] { display: none; }` but bootstrap.min.css set `[hidden] { display: none !important; }` so we also need the `!important` here to be able to override the default hidden behavior on the sphinx rendered scikit-learn.org. See: https://github.com/scikit-learn/scikit-learn/issues/21755 */display: inline-block !important;position: relative;}#sk-container-id-2 div.sk-text-repr-fallback {display: none;}</style><div id=\"sk-container-id-2\" class=\"sk-top-container\"><div class=\"sk-text-repr-fallback\"><pre>GridSearchCV(estimator=RandomForestRegressor(random_state=1),\n",
              "             param_grid={&#x27;max_features&#x27;: [5, 6], &#x27;n_estimators&#x27;: [120, 200]},\n",
              "             scoring=&#x27;neg_root_mean_squared_error&#x27;)</pre><b>In a Jupyter environment, please rerun this cell to show the HTML representation or trust the notebook. <br />On GitHub, the HTML representation is unable to render, please try loading this page with nbviewer.org.</b></div><div class=\"sk-container\" hidden><div class=\"sk-item sk-dashed-wrapped\"><div class=\"sk-label-container\"><div class=\"sk-label sk-toggleable\"><input class=\"sk-toggleable__control sk-hidden--visually\" id=\"sk-estimator-id-4\" type=\"checkbox\" ><label for=\"sk-estimator-id-4\" class=\"sk-toggleable__label sk-toggleable__label-arrow\">GridSearchCV</label><div class=\"sk-toggleable__content\"><pre>GridSearchCV(estimator=RandomForestRegressor(random_state=1),\n",
              "             param_grid={&#x27;max_features&#x27;: [5, 6], &#x27;n_estimators&#x27;: [120, 200]},\n",
              "             scoring=&#x27;neg_root_mean_squared_error&#x27;)</pre></div></div></div><div class=\"sk-parallel\"><div class=\"sk-parallel-item\"><div class=\"sk-item\"><div class=\"sk-label-container\"><div class=\"sk-label sk-toggleable\"><input class=\"sk-toggleable__control sk-hidden--visually\" id=\"sk-estimator-id-5\" type=\"checkbox\" ><label for=\"sk-estimator-id-5\" class=\"sk-toggleable__label sk-toggleable__label-arrow\">estimator: RandomForestRegressor</label><div class=\"sk-toggleable__content\"><pre>RandomForestRegressor(random_state=1)</pre></div></div></div><div class=\"sk-serial\"><div class=\"sk-item\"><div class=\"sk-estimator sk-toggleable\"><input class=\"sk-toggleable__control sk-hidden--visually\" id=\"sk-estimator-id-6\" type=\"checkbox\" ><label for=\"sk-estimator-id-6\" class=\"sk-toggleable__label sk-toggleable__label-arrow\">RandomForestRegressor</label><div class=\"sk-toggleable__content\"><pre>RandomForestRegressor(random_state=1)</pre></div></div></div></div></div></div></div></div></div></div>"
            ],
            "text/plain": [
              "GridSearchCV(estimator=RandomForestRegressor(random_state=1),\n",
              "             param_grid={'max_features': [5, 6], 'n_estimators': [120, 200]},\n",
              "             scoring='neg_root_mean_squared_error')"
            ]
          },
          "metadata": {},
          "output_type": "display_data"
        }
      ],
      "source": [
        "# GridSearchCV를 이용하여 Randomforest 모델을 저장\n",
        "rf_params = {'max_features': [5,6], 'n_estimators': [120, 200]}\n",
        "rf_model = GridSearchCV(RandomForestRegressor(random_state=1), param_grid=rf_params, scoring='neg_root_mean_squared_error', refit=True) \n",
        "rf_model.fit(x_train_,y_train_)  "
      ]
    },
    {
      "cell_type": "code",
      "execution_count": null,
      "metadata": {
        "colab": {
          "base_uri": "https://localhost:8080/",
          "height": 175
        },
        "id": "mrWqpoCF7ByT",
        "outputId": "8e703115-1ee0-4817-e6ea-d5b3d03c65eb"
      },
      "outputs": [
        {
          "data": {
            "text/html": [
              "<div>\n",
              "<style scoped>\n",
              "    .dataframe tbody tr th:only-of-type {\n",
              "        vertical-align: middle;\n",
              "    }\n",
              "\n",
              "    .dataframe tbody tr th {\n",
              "        vertical-align: top;\n",
              "    }\n",
              "\n",
              "    .dataframe thead th {\n",
              "        text-align: right;\n",
              "    }\n",
              "</style>\n",
              "<table border=\"1\" class=\"dataframe\">\n",
              "  <thead>\n",
              "    <tr style=\"text-align: right;\">\n",
              "      <th></th>\n",
              "      <th>params</th>\n",
              "      <th>mean_test_score</th>\n",
              "      <th>rank_test_score</th>\n",
              "    </tr>\n",
              "  </thead>\n",
              "  <tbody>\n",
              "    <tr>\n",
              "      <th>1</th>\n",
              "      <td>{'max_features': 5, 'n_estimators': 200}</td>\n",
              "      <td>-0.003455</td>\n",
              "      <td>1</td>\n",
              "    </tr>\n",
              "    <tr>\n",
              "      <th>0</th>\n",
              "      <td>{'max_features': 5, 'n_estimators': 120}</td>\n",
              "      <td>-0.003460</td>\n",
              "      <td>2</td>\n",
              "    </tr>\n",
              "    <tr>\n",
              "      <th>3</th>\n",
              "      <td>{'max_features': 6, 'n_estimators': 200}</td>\n",
              "      <td>-0.003478</td>\n",
              "      <td>3</td>\n",
              "    </tr>\n",
              "    <tr>\n",
              "      <th>2</th>\n",
              "      <td>{'max_features': 6, 'n_estimators': 120}</td>\n",
              "      <td>-0.003488</td>\n",
              "      <td>4</td>\n",
              "    </tr>\n",
              "  </tbody>\n",
              "</table>\n",
              "</div>"
            ],
            "text/plain": [
              "                                     params  mean_test_score  rank_test_score\n",
              "1  {'max_features': 5, 'n_estimators': 200}        -0.003455                1\n",
              "0  {'max_features': 5, 'n_estimators': 120}        -0.003460                2\n",
              "3  {'max_features': 6, 'n_estimators': 200}        -0.003478                3\n",
              "2  {'max_features': 6, 'n_estimators': 120}        -0.003488                4"
            ]
          },
          "metadata": {},
          "output_type": "display_data"
        }
      ],
      "source": [
        "pd.DataFrame(rf_model.cv_results_)[col_cv_results].sort_values(by='rank_test_score')"
      ]
    },
    {
      "cell_type": "code",
      "execution_count": null,
      "metadata": {
        "id": "b9dae3c0",
        "outputId": "02b917ef-597a-4ec1-cd48-ea58a0f902ab"
      },
      "outputs": [
        {
          "name": "stdout",
          "output_type": "stream",
          "text": [
            "Learning rate set to 0.260153\n",
            "0:\tlearn: 0.0121576\ttotal: 83.5ms\tremaining: 8.27s\n",
            "1:\tlearn: 0.0095259\ttotal: 94.4ms\tremaining: 4.62s\n",
            "2:\tlearn: 0.0075245\ttotal: 103ms\tremaining: 3.33s\n",
            "3:\tlearn: 0.0060771\ttotal: 111ms\tremaining: 2.67s\n",
            "4:\tlearn: 0.0050134\ttotal: 119ms\tremaining: 2.26s\n",
            "5:\tlearn: 0.0043631\ttotal: 126ms\tremaining: 1.97s\n",
            "6:\tlearn: 0.0038738\ttotal: 132ms\tremaining: 1.76s\n",
            "7:\tlearn: 0.0034745\ttotal: 140ms\tremaining: 1.61s\n",
            "8:\tlearn: 0.0032115\ttotal: 147ms\tremaining: 1.48s\n",
            "9:\tlearn: 0.0030159\ttotal: 154ms\tremaining: 1.38s\n",
            "10:\tlearn: 0.0028530\ttotal: 161ms\tremaining: 1.3s\n",
            "11:\tlearn: 0.0027702\ttotal: 169ms\tremaining: 1.24s\n",
            "12:\tlearn: 0.0026644\ttotal: 176ms\tremaining: 1.18s\n",
            "13:\tlearn: 0.0025947\ttotal: 183ms\tremaining: 1.12s\n",
            "14:\tlearn: 0.0025051\ttotal: 190ms\tremaining: 1.07s\n",
            "15:\tlearn: 0.0024378\ttotal: 199ms\tremaining: 1.05s\n",
            "16:\tlearn: 0.0023772\ttotal: 212ms\tremaining: 1.03s\n",
            "17:\tlearn: 0.0022853\ttotal: 223ms\tremaining: 1.01s\n",
            "18:\tlearn: 0.0022308\ttotal: 231ms\tremaining: 987ms\n",
            "19:\tlearn: 0.0022042\ttotal: 239ms\tremaining: 957ms\n",
            "20:\tlearn: 0.0021636\ttotal: 247ms\tremaining: 928ms\n",
            "21:\tlearn: 0.0021291\ttotal: 254ms\tremaining: 900ms\n",
            "22:\tlearn: 0.0020892\ttotal: 261ms\tremaining: 874ms\n",
            "23:\tlearn: 0.0020463\ttotal: 268ms\tremaining: 850ms\n",
            "24:\tlearn: 0.0020076\ttotal: 275ms\tremaining: 825ms\n",
            "25:\tlearn: 0.0019530\ttotal: 283ms\tremaining: 805ms\n",
            "26:\tlearn: 0.0019400\ttotal: 293ms\tremaining: 791ms\n",
            "27:\tlearn: 0.0019224\ttotal: 302ms\tremaining: 777ms\n",
            "28:\tlearn: 0.0019015\ttotal: 311ms\tremaining: 760ms\n",
            "29:\tlearn: 0.0018662\ttotal: 318ms\tremaining: 743ms\n",
            "30:\tlearn: 0.0018546\ttotal: 326ms\tremaining: 725ms\n",
            "31:\tlearn: 0.0018076\ttotal: 333ms\tremaining: 707ms\n",
            "32:\tlearn: 0.0017916\ttotal: 340ms\tremaining: 691ms\n",
            "33:\tlearn: 0.0017830\ttotal: 347ms\tremaining: 674ms\n",
            "34:\tlearn: 0.0017603\ttotal: 356ms\tremaining: 661ms\n",
            "35:\tlearn: 0.0016813\ttotal: 366ms\tremaining: 651ms\n",
            "36:\tlearn: 0.0016594\ttotal: 374ms\tremaining: 637ms\n",
            "37:\tlearn: 0.0016140\ttotal: 381ms\tremaining: 622ms\n",
            "38:\tlearn: 0.0016011\ttotal: 388ms\tremaining: 607ms\n",
            "39:\tlearn: 0.0015580\ttotal: 396ms\tremaining: 594ms\n",
            "40:\tlearn: 0.0015053\ttotal: 403ms\tremaining: 580ms\n",
            "41:\tlearn: 0.0014973\ttotal: 410ms\tremaining: 566ms\n",
            "42:\tlearn: 0.0014619\ttotal: 418ms\tremaining: 554ms\n",
            "43:\tlearn: 0.0014255\ttotal: 425ms\tremaining: 540ms\n",
            "44:\tlearn: 0.0014069\ttotal: 433ms\tremaining: 529ms\n",
            "45:\tlearn: 0.0013984\ttotal: 441ms\tremaining: 517ms\n",
            "46:\tlearn: 0.0013605\ttotal: 452ms\tremaining: 510ms\n",
            "47:\tlearn: 0.0013032\ttotal: 463ms\tremaining: 502ms\n",
            "48:\tlearn: 0.0012873\ttotal: 472ms\tremaining: 491ms\n",
            "49:\tlearn: 0.0012514\ttotal: 481ms\tremaining: 481ms\n",
            "50:\tlearn: 0.0012401\ttotal: 489ms\tremaining: 469ms\n",
            "51:\tlearn: 0.0011981\ttotal: 496ms\tremaining: 457ms\n",
            "52:\tlearn: 0.0011431\ttotal: 503ms\tremaining: 446ms\n",
            "53:\tlearn: 0.0011254\ttotal: 509ms\tremaining: 434ms\n",
            "54:\tlearn: 0.0011030\ttotal: 517ms\tremaining: 423ms\n",
            "55:\tlearn: 0.0010729\ttotal: 525ms\tremaining: 413ms\n",
            "56:\tlearn: 0.0010664\ttotal: 532ms\tremaining: 401ms\n",
            "57:\tlearn: 0.0010313\ttotal: 539ms\tremaining: 390ms\n",
            "58:\tlearn: 0.0009885\ttotal: 546ms\tremaining: 380ms\n",
            "59:\tlearn: 0.0009565\ttotal: 553ms\tremaining: 369ms\n",
            "60:\tlearn: 0.0009348\ttotal: 561ms\tremaining: 358ms\n",
            "61:\tlearn: 0.0009050\ttotal: 567ms\tremaining: 348ms\n",
            "62:\tlearn: 0.0008744\ttotal: 575ms\tremaining: 338ms\n",
            "63:\tlearn: 0.0008626\ttotal: 581ms\tremaining: 327ms\n",
            "64:\tlearn: 0.0008357\ttotal: 589ms\tremaining: 317ms\n",
            "65:\tlearn: 0.0008040\ttotal: 596ms\tremaining: 307ms\n",
            "66:\tlearn: 0.0007822\ttotal: 603ms\tremaining: 297ms\n",
            "67:\tlearn: 0.0007740\ttotal: 611ms\tremaining: 287ms\n",
            "68:\tlearn: 0.0007564\ttotal: 617ms\tremaining: 277ms\n",
            "69:\tlearn: 0.0007520\ttotal: 625ms\tremaining: 268ms\n",
            "70:\tlearn: 0.0007379\ttotal: 632ms\tremaining: 258ms\n",
            "71:\tlearn: 0.0007264\ttotal: 639ms\tremaining: 248ms\n",
            "72:\tlearn: 0.0007139\ttotal: 646ms\tremaining: 239ms\n",
            "73:\tlearn: 0.0007108\ttotal: 652ms\tremaining: 229ms\n",
            "74:\tlearn: 0.0006949\ttotal: 659ms\tremaining: 220ms\n",
            "75:\tlearn: 0.0006922\ttotal: 666ms\tremaining: 210ms\n",
            "76:\tlearn: 0.0006670\ttotal: 673ms\tremaining: 201ms\n",
            "77:\tlearn: 0.0006460\ttotal: 680ms\tremaining: 192ms\n",
            "78:\tlearn: 0.0006272\ttotal: 687ms\tremaining: 183ms\n",
            "79:\tlearn: 0.0006178\ttotal: 695ms\tremaining: 174ms\n",
            "80:\tlearn: 0.0006035\ttotal: 702ms\tremaining: 165ms\n",
            "81:\tlearn: 0.0005938\ttotal: 708ms\tremaining: 155ms\n",
            "82:\tlearn: 0.0005751\ttotal: 715ms\tremaining: 146ms\n",
            "83:\tlearn: 0.0005716\ttotal: 722ms\tremaining: 138ms\n",
            "84:\tlearn: 0.0005628\ttotal: 729ms\tremaining: 129ms\n",
            "85:\tlearn: 0.0005481\ttotal: 736ms\tremaining: 120ms\n",
            "86:\tlearn: 0.0005344\ttotal: 743ms\tremaining: 111ms\n",
            "87:\tlearn: 0.0005326\ttotal: 750ms\tremaining: 102ms\n",
            "88:\tlearn: 0.0005160\ttotal: 756ms\tremaining: 93.5ms\n",
            "89:\tlearn: 0.0004972\ttotal: 763ms\tremaining: 84.8ms\n",
            "90:\tlearn: 0.0004830\ttotal: 770ms\tremaining: 76.2ms\n",
            "91:\tlearn: 0.0004737\ttotal: 777ms\tremaining: 67.5ms\n",
            "92:\tlearn: 0.0004691\ttotal: 783ms\tremaining: 59ms\n",
            "93:\tlearn: 0.0004611\ttotal: 790ms\tremaining: 50.5ms\n",
            "94:\tlearn: 0.0004528\ttotal: 797ms\tremaining: 41.9ms\n",
            "95:\tlearn: 0.0004400\ttotal: 804ms\tremaining: 33.5ms\n",
            "96:\tlearn: 0.0004259\ttotal: 812ms\tremaining: 25.1ms\n",
            "97:\tlearn: 0.0004150\ttotal: 818ms\tremaining: 16.7ms\n",
            "98:\tlearn: 0.0004092\ttotal: 826ms\tremaining: 8.34ms\n",
            "99:\tlearn: 0.0004075\ttotal: 833ms\tremaining: 0us\n"
          ]
        },
        {
          "data": {
            "text/plain": [
              "<catboost.core.CatBoostRegressor at 0x16de1b3a0>"
            ]
          },
          "metadata": {},
          "output_type": "display_data"
        }
      ],
      "source": [
        "# # GridSearchCV를 이용하여 CatBoost 모델 저장\n",
        "cbr_params = {'depth': [10], 'learning_rate': [0.01]}\n",
        "            \n",
        "cbr_model = GridSearchCV(CatBoostRegressor(random_state=1, iterations=100), param_grid=cbr_params, scoring='neg_root_mean_squared_error', cv=2, n_jobs=-1, refit=True) \n",
        "cbr_model.fit(x_train,y_train)\n",
        "\n",
        "cbr_model = CatBoostRegressor(random_state=1, iterations=100)\n",
        "cbr_model.fit(x_train_,y_train_)"
      ]
    },
    {
      "cell_type": "code",
      "execution_count": null,
      "metadata": {
        "id": "0b4e74ec"
      },
      "outputs": [],
      "source": [
        "# 최적의 하이퍼파라미터로 학습된 릿지 회귀 모델을 저장 \n",
        "best_ridge = ridge_model.best_estimator_\n",
        "\n",
        "# 최적의 하이퍼파라미터로 학습된 랜덤포레스트 모델을 저장 \n",
        "best_rf = rf_model.best_estimator_\n",
        "\n",
        "# # 최적의 하이퍼파라미터로 학습된 캣부스트 회귀 모델을 저장 \n",
        "# best_cbr = cbr_model.best_estimator_"
      ]
    },
    {
      "cell_type": "markdown",
      "metadata": {
        "id": "bbf48307"
      },
      "source": [
        "### optuna"
      ]
    },
    {
      "cell_type": "code",
      "execution_count": null,
      "metadata": {
        "id": "faeddf6e"
      },
      "outputs": [],
      "source": [
        "import optuna\n",
        "from optuna import Trial\n",
        "\n",
        "def objective(trial: Trial) -> float:\n",
        "    rf_params = {\n",
        "            'n_estimators': trial.suggest_int('n_estimators', 1, 1000),\n",
        "            'max_depth': trial.suggest_int('max_depth', 2, 50),\n",
        "            'min_samples_split': trial.suggest_int('min_samples_split', 1, 150),\n",
        "            'min_samples_leaf': trial.suggest_int('min_samples_leaf', 1, 60)\n",
        "        }\n",
        "    model = RandomForestRegressor(**rf_params, random_state=42)\n",
        "    model.fit(x_train, y_train)\n",
        "\n",
        "    rf_pred = model.predict(x_valid)\n",
        "    rmse_score = rmse(y_valid, rf_pred)\n",
        "    \n",
        "    return rmse_score"
      ]
    },
    {
      "cell_type": "code",
      "execution_count": null,
      "metadata": {
        "id": "cf2210f8",
        "outputId": "ca93d4ca-f8ce-4457-926b-2accb2023a7d"
      },
      "outputs": [
        {
          "name": "stderr",
          "output_type": "stream",
          "text": [
            "\u001b[32m[I 2023-02-21 22:25:14,394]\u001b[0m A new study created in memory with name: rf_parameter_opt\u001b[0m\n",
            "\u001b[32m[I 2023-02-21 22:25:22,709]\u001b[0m Trial 0 finished with value: 0.0147 and parameters: {'n_estimators': 375, 'max_depth': 48, 'min_samples_split': 110, 'min_samples_leaf': 36}. Best is trial 0 with value: 0.0147.\u001b[0m\n",
            "\u001b[32m[I 2023-02-21 22:25:26,133]\u001b[0m Trial 1 finished with value: 0.0162 and parameters: {'n_estimators': 157, 'max_depth': 9, 'min_samples_split': 9, 'min_samples_leaf': 52}. Best is trial 0 with value: 0.0147.\u001b[0m\n",
            "\u001b[32m[I 2023-02-21 22:25:38,688]\u001b[0m Trial 2 finished with value: 0.015 and parameters: {'n_estimators': 602, 'max_depth': 36, 'min_samples_split': 4, 'min_samples_leaf': 59}. Best is trial 0 with value: 0.0147.\u001b[0m\n",
            "\u001b[32m[I 2023-02-21 22:26:04,066]\u001b[0m Trial 3 finished with value: 0.0143 and parameters: {'n_estimators': 833, 'max_depth': 12, 'min_samples_split': 28, 'min_samples_leaf': 12}. Best is trial 3 with value: 0.0143.\u001b[0m\n",
            "\u001b[32m[I 2023-02-21 22:26:11,874]\u001b[0m Trial 4 finished with value: 0.0143 and parameters: {'n_estimators': 305, 'max_depth': 27, 'min_samples_split': 65, 'min_samples_leaf': 18}. Best is trial 3 with value: 0.0143.\u001b[0m\n",
            "\u001b[32m[I 2023-02-21 22:26:28,129]\u001b[0m Trial 5 finished with value: 0.0142 and parameters: {'n_estimators': 612, 'max_depth': 8, 'min_samples_split': 44, 'min_samples_leaf': 22}. Best is trial 5 with value: 0.0142.\u001b[0m\n",
            "\u001b[32m[I 2023-02-21 22:26:39,381]\u001b[0m Trial 6 finished with value: 0.0143 and parameters: {'n_estimators': 457, 'max_depth': 40, 'min_samples_split': 30, 'min_samples_leaf': 31}. Best is trial 5 with value: 0.0142.\u001b[0m\n",
            "\u001b[32m[I 2023-02-21 22:26:52,879]\u001b[0m Trial 7 finished with value: 0.0141 and parameters: {'n_estimators': 593, 'max_depth': 4, 'min_samples_split': 92, 'min_samples_leaf': 11}. Best is trial 7 with value: 0.0141.\u001b[0m\n",
            "\u001b[32m[I 2023-02-21 22:26:54,172]\u001b[0m Trial 8 finished with value: 0.0162 and parameters: {'n_estimators': 66, 'max_depth': 48, 'min_samples_split': 145, 'min_samples_leaf': 49}. Best is trial 7 with value: 0.0141.\u001b[0m\n",
            "\u001b[32m[I 2023-02-21 22:27:01,133]\u001b[0m Trial 9 finished with value: 0.0142 and parameters: {'n_estimators': 305, 'max_depth': 6, 'min_samples_split': 103, 'min_samples_leaf': 27}. Best is trial 7 with value: 0.0141.\u001b[0m\n",
            "\u001b[32m[I 2023-02-21 22:27:27,301]\u001b[0m Trial 10 finished with value: 0.0142 and parameters: {'n_estimators': 953, 'max_depth': 19, 'min_samples_split': 88, 'min_samples_leaf': 2}. Best is trial 7 with value: 0.0141.\u001b[0m\n",
            "\u001b[32m[I 2023-02-21 22:27:40,034]\u001b[0m Trial 11 finished with value: 0.0139 and parameters: {'n_estimators': 669, 'max_depth': 3, 'min_samples_split': 62, 'min_samples_leaf': 14}. Best is trial 11 with value: 0.0139.\u001b[0m\n",
            "\u001b[32m[I 2023-02-21 22:27:50,445]\u001b[0m Trial 12 finished with value: 0.0151 and parameters: {'n_estimators': 740, 'max_depth': 2, 'min_samples_split': 72, 'min_samples_leaf': 1}. Best is trial 11 with value: 0.0139.\u001b[0m\n",
            "\u001b[32m[I 2023-02-21 22:28:05,556]\u001b[0m Trial 13 finished with value: 0.0141 and parameters: {'n_estimators': 656, 'max_depth': 18, 'min_samples_split': 121, 'min_samples_leaf': 11}. Best is trial 11 with value: 0.0139.\u001b[0m\n",
            "\u001b[32m[I 2023-02-21 22:28:28,280]\u001b[0m Trial 14 finished with value: 0.0142 and parameters: {'n_estimators': 828, 'max_depth': 16, 'min_samples_split': 57, 'min_samples_leaf': 13}. Best is trial 11 with value: 0.0139.\u001b[0m\n",
            "\u001b[32m[I 2023-02-21 22:28:35,427]\u001b[0m Trial 15 finished with value: 0.0152 and parameters: {'n_estimators': 500, 'max_depth': 2, 'min_samples_split': 91, 'min_samples_leaf': 40}. Best is trial 11 with value: 0.0139.\u001b[0m\n",
            "\u001b[32m[I 2023-02-21 22:29:00,568]\u001b[0m Trial 16 finished with value: 0.0142 and parameters: {'n_estimators': 967, 'max_depth': 25, 'min_samples_split': 83, 'min_samples_leaf': 8}. Best is trial 11 with value: 0.0139.\u001b[0m\n",
            "\u001b[32m[I 2023-02-21 22:29:18,053]\u001b[0m Trial 17 finished with value: 0.0139 and parameters: {'n_estimators': 802, 'max_depth': 25, 'min_samples_split': 131, 'min_samples_leaf': 20}. Best is trial 11 with value: 0.0139.\u001b[0m\n",
            "\u001b[32m[I 2023-02-21 22:29:34,415]\u001b[0m Trial 18 finished with value: 0.0139 and parameters: {'n_estimators': 779, 'max_depth': 29, 'min_samples_split': 150, 'min_samples_leaf': 21}. Best is trial 11 with value: 0.0139.\u001b[0m\n",
            "\u001b[32m[I 2023-02-21 22:29:49,711]\u001b[0m Trial 19 finished with value: 0.0139 and parameters: {'n_estimators': 711, 'max_depth': 36, 'min_samples_split': 129, 'min_samples_leaf': 27}. Best is trial 11 with value: 0.0139.\u001b[0m\n",
            "\u001b[32m[I 2023-02-21 22:30:13,939]\u001b[0m Trial 20 finished with value: 0.014 and parameters: {'n_estimators': 905, 'max_depth': 24, 'min_samples_split': 54, 'min_samples_leaf': 18}. Best is trial 11 with value: 0.0139.\u001b[0m\n",
            "\u001b[32m[I 2023-02-21 22:30:30,251]\u001b[0m Trial 21 finished with value: 0.0139 and parameters: {'n_estimators': 763, 'max_depth': 33, 'min_samples_split': 147, 'min_samples_leaf': 21}. Best is trial 11 with value: 0.0139.\u001b[0m\n",
            "\u001b[32m[I 2023-02-21 22:30:48,522]\u001b[0m Trial 22 finished with value: 0.0138 and parameters: {'n_estimators': 841, 'max_depth': 30, 'min_samples_split': 132, 'min_samples_leaf': 25}. Best is trial 22 with value: 0.0138.\u001b[0m\n",
            "\u001b[32m[I 2023-02-21 22:31:07,204]\u001b[0m Trial 23 finished with value: 0.0139 and parameters: {'n_estimators': 875, 'max_depth': 43, 'min_samples_split': 132, 'min_samples_leaf': 30}. Best is trial 22 with value: 0.0138.\u001b[0m\n",
            "\u001b[32m[I 2023-02-21 22:31:22,190]\u001b[0m Trial 24 finished with value: 0.0149 and parameters: {'n_estimators': 693, 'max_depth': 30, 'min_samples_split': 109, 'min_samples_leaf': 40}. Best is trial 22 with value: 0.0138.\u001b[0m\n",
            "\u001b[32m[I 2023-02-21 22:31:45,678]\u001b[0m Trial 25 finished with value: 0.0141 and parameters: {'n_estimators': 990, 'max_depth': 21, 'min_samples_split': 123, 'min_samples_leaf': 6}. Best is trial 22 with value: 0.0138.\u001b[0m\n",
            "\u001b[32m[I 2023-02-21 22:32:05,151]\u001b[0m Trial 26 finished with value: 0.014 and parameters: {'n_estimators': 528, 'max_depth': 12, 'min_samples_split': 136, 'min_samples_leaf': 16}. Best is trial 22 with value: 0.0138.\u001b[0m\n",
            "\u001b[32m[I 2023-02-21 22:32:26,325]\u001b[0m Trial 27 finished with value: 0.014 and parameters: {'n_estimators': 804, 'max_depth': 14, 'min_samples_split': 101, 'min_samples_leaf': 24}. Best is trial 22 with value: 0.0138.\u001b[0m\n",
            "\u001b[32m[I 2023-02-21 22:32:46,133]\u001b[0m Trial 28 finished with value: 0.014 and parameters: {'n_estimators': 908, 'max_depth': 33, 'min_samples_split': 120, 'min_samples_leaf': 34}. Best is trial 22 with value: 0.0138.\u001b[0m\n",
            "\u001b[32m[I 2023-02-21 22:33:02,721]\u001b[0m Trial 29 finished with value: 0.0148 and parameters: {'n_estimators': 669, 'max_depth': 23, 'min_samples_split': 41, 'min_samples_leaf': 38}. Best is trial 22 with value: 0.0138.\u001b[0m\n",
            "\u001b[32m[I 2023-02-21 22:33:12,850]\u001b[0m Trial 30 finished with value: 0.0142 and parameters: {'n_estimators': 400, 'max_depth': 50, 'min_samples_split': 79, 'min_samples_leaf': 26}. Best is trial 22 with value: 0.0138.\u001b[0m\n",
            "\u001b[32m[I 2023-02-21 22:33:30,300]\u001b[0m Trial 31 finished with value: 0.0138 and parameters: {'n_estimators': 810, 'max_depth': 30, 'min_samples_split': 150, 'min_samples_leaf': 21}. Best is trial 22 with value: 0.0138.\u001b[0m\n",
            "\u001b[32m[I 2023-02-21 22:33:49,257]\u001b[0m Trial 32 finished with value: 0.0139 and parameters: {'n_estimators': 861, 'max_depth': 31, 'min_samples_split': 138, 'min_samples_leaf': 16}. Best is trial 22 with value: 0.0138.\u001b[0m\n",
            "\u001b[32m[I 2023-02-21 22:34:04,832]\u001b[0m Trial 33 finished with value: 0.0139 and parameters: {'n_estimators': 747, 'max_depth': 40, 'min_samples_split': 140, 'min_samples_leaf': 31}. Best is trial 22 with value: 0.0138.\u001b[0m\n",
            "\u001b[32m[I 2023-02-21 22:34:19,974]\u001b[0m Trial 34 finished with value: 0.0142 and parameters: {'n_estimators': 628, 'max_depth': 27, 'min_samples_split': 111, 'min_samples_leaf': 7}. Best is trial 22 with value: 0.0138.\u001b[0m\n",
            "\u001b[32m[I 2023-02-21 22:34:37,916]\u001b[0m Trial 35 finished with value: 0.0139 and parameters: {'n_estimators': 807, 'max_depth': 34, 'min_samples_split': 127, 'min_samples_leaf': 19}. Best is trial 22 with value: 0.0138.\u001b[0m\n",
            "\u001b[32m[I 2023-02-21 22:34:52,047]\u001b[0m Trial 36 finished with value: 0.0142 and parameters: {'n_estimators': 532, 'max_depth': 38, 'min_samples_split': 69, 'min_samples_leaf': 15}. Best is trial 22 with value: 0.0138.\u001b[0m\n",
            "\u001b[32m[I 2023-02-21 22:35:13,501]\u001b[0m Trial 37 finished with value: 0.0139 and parameters: {'n_estimators': 927, 'max_depth': 22, 'min_samples_split': 114, 'min_samples_leaf': 23}. Best is trial 22 with value: 0.0138.\u001b[0m\n",
            "\u001b[32m[I 2023-02-21 22:35:33,537]\u001b[0m Trial 38 finished with value: 0.015 and parameters: {'n_estimators': 871, 'max_depth': 45, 'min_samples_split': 58, 'min_samples_leaf': 44}. Best is trial 22 with value: 0.0138.\u001b[0m\n",
            "\u001b[32m[I 2023-02-21 22:35:47,787]\u001b[0m Trial 39 finished with value: 0.0143 and parameters: {'n_estimators': 587, 'max_depth': 29, 'min_samples_split': 25, 'min_samples_leaf': 35}. Best is trial 22 with value: 0.0138.\u001b[0m\n",
            "\u001b[32m[I 2023-02-21 22:36:03,906]\u001b[0m Trial 40 finished with value: 0.014 and parameters: {'n_estimators': 704, 'max_depth': 11, 'min_samples_split': 100, 'min_samples_leaf': 25}. Best is trial 22 with value: 0.0138.\u001b[0m\n",
            "\u001b[32m[I 2023-02-21 22:36:20,456]\u001b[0m Trial 41 finished with value: 0.0139 and parameters: {'n_estimators': 782, 'max_depth': 29, 'min_samples_split': 150, 'min_samples_leaf': 20}. Best is trial 22 with value: 0.0138.\u001b[0m\n",
            "\u001b[32m[I 2023-02-21 22:36:38,461]\u001b[0m Trial 42 finished with value: 0.0138 and parameters: {'n_estimators': 836, 'max_depth': 27, 'min_samples_split': 141, 'min_samples_leaf': 22}. Best is trial 22 with value: 0.0138.\u001b[0m\n",
            "\u001b[32m[I 2023-02-21 22:36:54,497]\u001b[0m Trial 43 finished with value: 0.0148 and parameters: {'n_estimators': 842, 'max_depth': 26, 'min_samples_split': 141, 'min_samples_leaf': 59}. Best is trial 22 with value: 0.0138.\u001b[0m\n",
            "\u001b[32m[I 2023-02-21 22:36:54,737]\u001b[0m Trial 44 finished with value: 0.0135 and parameters: {'n_estimators': 10, 'max_depth': 20, 'min_samples_split': 134, 'min_samples_leaf': 28}. Best is trial 44 with value: 0.0135.\u001b[0m\n",
            "\u001b[32m[I 2023-02-21 22:36:55,859]\u001b[0m Trial 45 finished with value: 0.0144 and parameters: {'n_estimators': 52, 'max_depth': 9, 'min_samples_split': 143, 'min_samples_leaf': 29}. Best is trial 44 with value: 0.0135.\u001b[0m\n",
            "\u001b[32m[I 2023-02-21 22:37:01,846]\u001b[0m Trial 46 finished with value: 0.0146 and parameters: {'n_estimators': 281, 'max_depth': 20, 'min_samples_split': 118, 'min_samples_leaf': 33}. Best is trial 44 with value: 0.0135.\u001b[0m\n",
            "\u001b[32m[I 2023-02-21 22:37:04,659]\u001b[0m Trial 47 finished with value: 0.0163 and parameters: {'n_estimators': 134, 'max_depth': 17, 'min_samples_split': 10, 'min_samples_leaf': 53}. Best is trial 44 with value: 0.0135.\u001b[0m\n",
            "\u001b[32m[I 2023-02-21 22:37:08,189]\u001b[0m Trial 48 finished with value: 0.0148 and parameters: {'n_estimators': 130, 'max_depth': 6, 'min_samples_split': 46, 'min_samples_leaf': 12}. Best is trial 44 with value: 0.0135.\u001b[0m\n",
            "\u001b[32m[I 2023-02-21 22:37:13,876]\u001b[0m Trial 49 finished with value: 0.0142 and parameters: {'n_estimators': 268, 'max_depth': 36, 'min_samples_split': 136, 'min_samples_leaf': 28}. Best is trial 44 with value: 0.0135.\u001b[0m\n"
          ]
        },
        {
          "name": "stdout",
          "output_type": "stream",
          "text": [
            "Best Score: 0.0135\n",
            "Best trial: {'n_estimators': 10, 'max_depth': 20, 'min_samples_split': 134, 'min_samples_leaf': 28}\n"
          ]
        }
      ],
      "source": [
        "from optuna.samplers import TPESampler\n",
        "\n",
        "sampler = TPESampler(seed=42)\n",
        "study = optuna.create_study(\n",
        "    study_name=\"rf_parameter_opt\",\n",
        "    direction=\"minimize\",\n",
        "    sampler=sampler\n",
        ")\n",
        "study.optimize(objective, n_trials=50)\n",
        "print(\"Best Score:\", study.best_value)\n",
        "print(\"Best trial:\", study.best_trial.params)"
      ]
    },
    {
      "cell_type": "code",
      "execution_count": null,
      "metadata": {
        "id": "9a7d78f7",
        "outputId": "40924744-f8f5-4ac5-c826-fdbdb000b5bb"
      },
      "outputs": [
        {
          "data": {
            "text/html": [
              "<style>#sk-container-id-9 {color: black;background-color: white;}#sk-container-id-9 pre{padding: 0;}#sk-container-id-9 div.sk-toggleable {background-color: white;}#sk-container-id-9 label.sk-toggleable__label {cursor: pointer;display: block;width: 100%;margin-bottom: 0;padding: 0.3em;box-sizing: border-box;text-align: center;}#sk-container-id-9 label.sk-toggleable__label-arrow:before {content: \"▸\";float: left;margin-right: 0.25em;color: #696969;}#sk-container-id-9 label.sk-toggleable__label-arrow:hover:before {color: black;}#sk-container-id-9 div.sk-estimator:hover label.sk-toggleable__label-arrow:before {color: black;}#sk-container-id-9 div.sk-toggleable__content {max-height: 0;max-width: 0;overflow: hidden;text-align: left;background-color: #f0f8ff;}#sk-container-id-9 div.sk-toggleable__content pre {margin: 0.2em;color: black;border-radius: 0.25em;background-color: #f0f8ff;}#sk-container-id-9 input.sk-toggleable__control:checked~div.sk-toggleable__content {max-height: 200px;max-width: 100%;overflow: auto;}#sk-container-id-9 input.sk-toggleable__control:checked~label.sk-toggleable__label-arrow:before {content: \"▾\";}#sk-container-id-9 div.sk-estimator input.sk-toggleable__control:checked~label.sk-toggleable__label {background-color: #d4ebff;}#sk-container-id-9 div.sk-label input.sk-toggleable__control:checked~label.sk-toggleable__label {background-color: #d4ebff;}#sk-container-id-9 input.sk-hidden--visually {border: 0;clip: rect(1px 1px 1px 1px);clip: rect(1px, 1px, 1px, 1px);height: 1px;margin: -1px;overflow: hidden;padding: 0;position: absolute;width: 1px;}#sk-container-id-9 div.sk-estimator {font-family: monospace;background-color: #f0f8ff;border: 1px dotted black;border-radius: 0.25em;box-sizing: border-box;margin-bottom: 0.5em;}#sk-container-id-9 div.sk-estimator:hover {background-color: #d4ebff;}#sk-container-id-9 div.sk-parallel-item::after {content: \"\";width: 100%;border-bottom: 1px solid gray;flex-grow: 1;}#sk-container-id-9 div.sk-label:hover label.sk-toggleable__label {background-color: #d4ebff;}#sk-container-id-9 div.sk-serial::before {content: \"\";position: absolute;border-left: 1px solid gray;box-sizing: border-box;top: 0;bottom: 0;left: 50%;z-index: 0;}#sk-container-id-9 div.sk-serial {display: flex;flex-direction: column;align-items: center;background-color: white;padding-right: 0.2em;padding-left: 0.2em;position: relative;}#sk-container-id-9 div.sk-item {position: relative;z-index: 1;}#sk-container-id-9 div.sk-parallel {display: flex;align-items: stretch;justify-content: center;background-color: white;position: relative;}#sk-container-id-9 div.sk-item::before, #sk-container-id-9 div.sk-parallel-item::before {content: \"\";position: absolute;border-left: 1px solid gray;box-sizing: border-box;top: 0;bottom: 0;left: 50%;z-index: -1;}#sk-container-id-9 div.sk-parallel-item {display: flex;flex-direction: column;z-index: 1;position: relative;background-color: white;}#sk-container-id-9 div.sk-parallel-item:first-child::after {align-self: flex-end;width: 50%;}#sk-container-id-9 div.sk-parallel-item:last-child::after {align-self: flex-start;width: 50%;}#sk-container-id-9 div.sk-parallel-item:only-child::after {width: 0;}#sk-container-id-9 div.sk-dashed-wrapped {border: 1px dashed gray;margin: 0 0.4em 0.5em 0.4em;box-sizing: border-box;padding-bottom: 0.4em;background-color: white;}#sk-container-id-9 div.sk-label label {font-family: monospace;font-weight: bold;display: inline-block;line-height: 1.2em;}#sk-container-id-9 div.sk-label-container {text-align: center;}#sk-container-id-9 div.sk-container {/* jupyter's `normalize.less` sets `[hidden] { display: none; }` but bootstrap.min.css set `[hidden] { display: none !important; }` so we also need the `!important` here to be able to override the default hidden behavior on the sphinx rendered scikit-learn.org. See: https://github.com/scikit-learn/scikit-learn/issues/21755 */display: inline-block !important;position: relative;}#sk-container-id-9 div.sk-text-repr-fallback {display: none;}</style><div id=\"sk-container-id-9\" class=\"sk-top-container\"><div class=\"sk-text-repr-fallback\"><pre>RandomForestRegressor(max_depth=3, min_samples_leaf=14, min_samples_split=62,\n",
              "                      n_estimators=668, random_state=42)</pre><b>In a Jupyter environment, please rerun this cell to show the HTML representation or trust the notebook. <br />On GitHub, the HTML representation is unable to render, please try loading this page with nbviewer.org.</b></div><div class=\"sk-container\" hidden><div class=\"sk-item\"><div class=\"sk-estimator sk-toggleable\"><input class=\"sk-toggleable__control sk-hidden--visually\" id=\"sk-estimator-id-13\" type=\"checkbox\" checked><label for=\"sk-estimator-id-13\" class=\"sk-toggleable__label sk-toggleable__label-arrow\">RandomForestRegressor</label><div class=\"sk-toggleable__content\"><pre>RandomForestRegressor(max_depth=3, min_samples_leaf=14, min_samples_split=62,\n",
              "                      n_estimators=668, random_state=42)</pre></div></div></div></div></div>"
            ],
            "text/plain": [
              "RandomForestRegressor(max_depth=3, min_samples_leaf=14, min_samples_split=62,\n",
              "                      n_estimators=668, random_state=42)"
            ]
          },
          "metadata": {},
          "output_type": "display_data"
        }
      ],
      "source": [
        "tuned_rf = RandomForestRegressor(n_estimators = 668, max_depth =3, min_samples_split = 62, min_samples_leaf = 14, random_state = 42)\n",
        "tuned_rf.fit(x_train_, y_train_)"
      ]
    },
    {
      "cell_type": "code",
      "execution_count": null,
      "metadata": {
        "id": "bc056675",
        "outputId": "027782b2-d460-4c3c-c4c7-1d009a378009"
      },
      "outputs": [
        {
          "data": {
            "text/plain": [
              "4.2364"
            ]
          },
          "metadata": {},
          "output_type": "display_data"
        }
      ],
      "source": [
        "rmse(np.expm1(tuned_rf.predict(x_valid)), np.expm1(y_valid))"
      ]
    },
    {
      "cell_type": "markdown",
      "metadata": {
        "id": "2PcYeQBInymH"
      },
      "source": [
        "<a name='05-04'></a>\n",
        "### 5.4 최종 모델 구축 \n",
        "\n",
        "릿지 모델과 랜덤 포레스트 모델을 평가하고, 이 둘의 조합인 앙상블 모델을 구축\n"
      ]
    },
    {
      "cell_type": "code",
      "execution_count": null,
      "metadata": {
        "colab": {
          "base_uri": "https://localhost:8080/"
        },
        "id": "Ceof_g8Um_Tv",
        "outputId": "7480606b-c1ab-409c-a219-31ec670f2c15"
      },
      "outputs": [
        {
          "name": "stdout",
          "output_type": "stream",
          "text": [
            "\n",
            "**** RIDGE\n",
            "\n",
            "Train RMSE: 3.6406\n",
            "\n",
            "Valid RMSE: 5.9594\n",
            "\n",
            "\n",
            "**** Random Forest\n",
            "\n",
            "Train RMSE: 1.6231\n",
            "\n",
            "Valid RMSE: 4.125\n",
            "\n",
            "\n",
            "**** CatBoostRegressor\n",
            "\n",
            "Train RMSE: 0.4959\n",
            "\n",
            "Valid RMSE: 4.5319\n",
            "\n",
            "\n",
            "**** Ensemble\n",
            "\n",
            "Train RMSE: 1.7647\n",
            "\n",
            "Valid RMSE: 4.5088\n",
            "\n"
          ]
        }
      ],
      "source": [
        "# 학습용 데이터셋의 타깃 변수 예측 \n",
        "y_pred_tr_ridge = np.expm1(best_ridge.predict(x_train_))\n",
        "y_pred_tr_rf = np.expm1(best_rf.predict(x_train_))\n",
        "y_pred_tr_cbr = np.expm1(cbr_model.predict(x_train_))\n",
        "\n",
        "# 검증용 데이터셋의 타깃 변수 예측 \n",
        "y_pred_va_ridge = np.expm1(best_ridge.predict(x_valid))\n",
        "y_pred_va_rf = np.expm1(best_rf.predict(x_valid))\n",
        "y_pred_va_cbr = np.expm1(cbr_model.predict(x_valid))\n",
        "\n",
        "\n",
        "# 앙상블 모형의 학습 및 검증 데이터에 대한 타깃 변수 예측 \n",
        "y_pred_tr_en= np.mean([y_pred_tr_ridge, y_pred_tr_rf, y_pred_tr_cbr], axis=0)\n",
        "y_pred_va_en= np.mean([y_pred_va_ridge, y_pred_va_rf, y_pred_va_cbr], axis=0)\n",
        "\n",
        "# 학습 데이터셋의 RMSE 계산 \n",
        "rmse_tr_ridge = rmse(np.expm1(y_train_), y_pred_tr_ridge)\n",
        "rmse_tr_rf = rmse(np.expm1(y_train_), y_pred_tr_rf)\n",
        "rmse_tr_en = rmse(np.expm1(y_train_), y_pred_tr_en)\n",
        "rmse_tr_cbr = rmse(np.expm1(y_train_), y_pred_tr_cbr)\n",
        "\n",
        "# 검증 데이터셋의 RMSE 계산 \n",
        "rmse_va_ridge = rmse(np.expm1(y_valid), y_pred_va_ridge)\n",
        "rmse_va_rf = rmse(np.expm1(y_valid), y_pred_va_rf)\n",
        "rmse_va_en = rmse(np.expm1(y_valid), y_pred_va_en)\n",
        "rmse_va_cbr = rmse(np.expm1(y_valid), y_pred_va_cbr)\n",
        "\n",
        "\n",
        "print(f'\\n**** RIDGE\\n')\n",
        "print(f'Train RMSE: {rmse_tr_ridge}\\n')\n",
        "print(f'Valid RMSE: {rmse_va_ridge}\\n')\n",
        "\n",
        "print(f'\\n**** Random Forest\\n')\n",
        "print(f'Train RMSE: {rmse_tr_rf}\\n')\n",
        "print(f'Valid RMSE: {rmse_va_rf}\\n')\n",
        "\n",
        "print(f'\\n**** CatBoostRegressor\\n')\n",
        "print(f'Train RMSE: {rmse_tr_cbr}\\n')\n",
        "print(f'Valid RMSE: {rmse_va_cbr}\\n')\n",
        "\n",
        "\n",
        "print(f'\\n**** Ensemble\\n')\n",
        "print(f'Train RMSE: {rmse_tr_en}\\n')\n",
        "print(f'Valid RMSE: {rmse_va_en}\\n')"
      ]
    },
    {
      "cell_type": "code",
      "execution_count": null,
      "metadata": {
        "id": "5faa4230"
      },
      "outputs": [],
      "source": [
        "scaler = StandardScaler()\n",
        "x_train[col_numerical] = scaler.fit_transform(x_train[col_numerical])\n",
        "x_test[col_numerical] = scaler.transform(x_test[col_numerical])"
      ]
    },
    {
      "cell_type": "code",
      "execution_count": null,
      "metadata": {
        "id": "80dd0466",
        "outputId": "4290f0b2-48fb-44cf-c7ea-b8d99e6dedd8"
      },
      "outputs": [
        {
          "data": {
            "text/plain": [
              "((1443, 418), (123, 418))"
            ]
          },
          "metadata": {},
          "output_type": "display_data"
        }
      ],
      "source": [
        "x_train.shape, x_test.shape"
      ]
    },
    {
      "cell_type": "code",
      "execution_count": null,
      "metadata": {
        "id": "289099ac",
        "outputId": "db4f0980-6554-4feb-f141-9162df218954"
      },
      "outputs": [
        {
          "data": {
            "text/plain": [
              "49     7.146052\n",
              "237    7.139026\n",
              "195    7.132866\n",
              "605    7.136106\n",
              "197    7.135565\n",
              "         ...   \n",
              "69     7.146363\n",
              "40     7.146292\n",
              "409    7.140590\n",
              "173    7.138996\n",
              "602    7.145495\n",
              "Name: y, Length: 123, dtype: float64"
            ]
          },
          "metadata": {},
          "output_type": "display_data"
        }
      ],
      "source": [
        "y_test"
      ]
    },
    {
      "cell_type": "code",
      "execution_count": null,
      "metadata": {
        "id": "aa817964",
        "outputId": "cbf01623-f6da-4638-9a24-58c8d4ea8540"
      },
      "outputs": [
        {
          "name": "stdout",
          "output_type": "stream",
          "text": [
            "Ensemble: Test RMSE: 7.3611\n"
          ]
        }
      ],
      "source": [
        "y_pred_test_ridge = np.expm1(best_ridge.predict(x_test))\n",
        "y_pred_test_rf = np.expm1(best_rf.predict(x_test))\n",
        "y_pred_test_cbr = np.expm1(cbr_model.predict(x_test))\n",
        "\n",
        "y_pred_test_en= np.mean([y_pred_test_rf, y_pred_test_cbr], axis=0)\n",
        "\n",
        "rmse_test_en = rmse(np.expm1(y_test), y_pred_test_en)\n",
        "rmse_test_cbr = rmse(np.expm1(y_test), y_pred_test_cbr)\n",
        "rmse_test_rf = rmse(np.expm1(y_test), y_pred_test_rf)\n",
        "\n",
        "print(f'Ensemble: Test RMSE: {rmse_test_en}')\n",
        "# print(f'CBR: Test RMSE: {rmse_test_cbr}')\n",
        "# print(f'RF: Test RMSE: {rmse_test_rf}')"
      ]
    },
    {
      "cell_type": "code",
      "execution_count": null,
      "metadata": {
        "id": "84825cb4",
        "outputId": "dfd699b0-6922-4b46-db85-ac42c19b7662"
      },
      "outputs": [
        {
          "data": {
            "text/plain": [
              "array([7.14529441, 7.14128056, 7.1419892 , 7.13823318, 7.14074445,\n",
              "       7.13917029, 7.14774478, 7.1414668 , 7.14446498, 7.14263999,\n",
              "       7.14594385, 7.14402189, 7.14597094, 7.14025394, 7.13936112,\n",
              "       7.14702267, 7.14261192, 7.15703165, 7.14839832, 7.14382808,\n",
              "       7.14803101, 7.13848667, 7.14364003, 7.14554922, 7.1457197 ,\n",
              "       7.13909117, 7.14328346, 7.13713283, 7.14657788, 7.14145722,\n",
              "       7.14617391, 7.14069731, 7.14670713, 7.13946503, 7.1381102 ,\n",
              "       7.14550286, 7.13791012, 7.14490193, 7.14812682, 7.1452115 ,\n",
              "       7.14664113, 7.14040941, 7.14429992, 7.14618461, 7.13851955,\n",
              "       7.14059426, 7.1367814 , 7.14325489, 7.13865537, 7.14372251,\n",
              "       7.14238093, 7.14528556, 7.15049919, 7.14058592, 7.1453714 ,\n",
              "       7.14022984, 7.14109724, 7.14329252, 7.14151613, 7.14393832,\n",
              "       7.14288274, 7.14346798, 7.1446602 , 7.141868  , 7.14805884,\n",
              "       7.14212585, 7.14118622, 7.14592263, 7.14089518, 7.15146673,\n",
              "       7.14206463, 7.14571614, 7.14416625, 7.14964438, 7.14440537,\n",
              "       7.13832255, 7.1426531 , 7.14290646, 7.14459673, 7.14034373,\n",
              "       7.14039469, 7.1385702 , 7.13387309, 7.14294917, 7.1412933 ,\n",
              "       7.14360492, 7.15967693, 7.15331311, 7.14275256, 7.14018994,\n",
              "       7.14084142, 7.14093164, 7.14779033, 7.14665543, 7.13983607,\n",
              "       7.13827018, 7.13866907, 7.14644035, 7.14010336, 7.14153917,\n",
              "       7.14393781, 7.13931582, 7.1358255 , 7.14639682, 7.13950817,\n",
              "       7.14421329, 7.1427042 , 7.13956355, 7.14974361, 7.13711635,\n",
              "       7.14729944, 7.14728461, 7.1392546 , 7.14318572, 7.13882478,\n",
              "       7.15156673, 7.13816158, 7.13709898, 7.13906374, 7.13884707,\n",
              "       7.13841867, 7.13945498, 7.13968664])"
            ]
          },
          "metadata": {},
          "output_type": "display_data"
        }
      ],
      "source": [
        "cbr_model.predict(x_test)"
      ]
    },
    {
      "cell_type": "code",
      "execution_count": null,
      "metadata": {
        "id": "59fc0d4a",
        "outputId": "f5b4f44f-db95-4ef7-d2b3-4fd8e1495958"
      },
      "outputs": [
        {
          "data": {
            "text/plain": [
              "[<matplotlib.lines.Line2D at 0x16595dd90>]"
            ]
          },
          "metadata": {},
          "output_type": "display_data"
        },
        {
          "data": {
            "image/png": "[encoded data removed]",
            "text/plain": [
              "<Figure size 640x480 with 1 Axes>"
            ]
          },
          "metadata": {},
          "output_type": "display_data"
        }
      ],
      "source": [
        "plt.scatter(np.expm1(y_valid), y_pred_va_en)\n",
        "x = np.linspace(1240,1290)\n",
        "y = np.linspace(1240,1290)\n",
        "plt.plot(x,y)"
      ]
    },
    {
      "cell_type": "markdown",
      "metadata": {
        "id": "kNTiZkBar4Ti"
      },
      "source": [
        "검증용 데이터로 세가지 모델에 대한 성능을 비교"
      ]
    },
    {
      "cell_type": "code",
      "execution_count": null,
      "metadata": {
        "colab": {
          "base_uri": "https://localhost:8080/",
          "height": 301
        },
        "id": "fp2tYvMbJRTv",
        "outputId": "1d7a14a7-1082-4d22-d23a-8f16c738e030"
      },
      "outputs": [
        {
          "data": {
            "image/png": "[encoded data removed]",
            "text/plain": [
              "<Figure size 640x480 with 1 Axes>"
            ]
          },
          "metadata": {},
          "output_type": "display_data"
        }
      ],
      "source": [
        "recap_model = ['RIDGE','RF','Ensemble']\n",
        "rmse_valid = [rmse_test_en,rmse_test_rf,rmse_test_cbr]\n",
        "df_recap = pd.DataFrame({'Model':recap_model, 'Valid_RMSE':rmse_valid})\n",
        "ax = sns.barplot(x='Model',y='Valid_RMSE',data=df_recap,palette='Blues_d')\n",
        "ax.set_ylim([5,9])\n",
        "plt.show()"
      ]
    },
    {
      "cell_type": "markdown",
      "metadata": {
        "id": "VxaSYzmwsWeW"
      },
      "source": [
        "랜덤 포레스트와 같은 트리 기반 모델에서는 각 변수의 중요도 정보를 함께 제공 \n",
        "\n",
        "특정 변수로 분기되었을 시 제곱오차(squared_error)가 크게 감소한 변수일수록 중요도가 높아짐\n",
        "\n",
        "분류 문제일 경우에는, 불순도(Gini, entropy)가 크게 감소할수록 해당 특성의 중요도가 높아짐\n",
        "\n",
        "전체 변수의 중요도 합은 1이며, 이는 상대적 의미를 가짐  \n",
        "\n"
      ]
    },
    {
      "cell_type": "code",
      "execution_count": null,
      "metadata": {
        "id": "041a536e",
        "outputId": "0f1ee330-f1ea-4c60-c747-7014ef50b5d6"
      },
      "outputs": [
        {
          "name": "stdout",
          "output_type": "stream",
          "text": [
            "*** MODEL R2_SCORE\n",
            "ridge:  -0.6543652288013657\n",
            "rf : 0.14811339828361758\n",
            "CBR : -0.05637310321142053\n",
            "Ensemble : 0.10412467888800869\n"
          ]
        }
      ],
      "source": [
        "print('*** MODEL R2_SCORE')\n",
        "print('ridge: ',r2_score(np.expm1(y_test), y_pred_test_ridge))\n",
        "print('rf :',r2_score(np.expm1(y_test), y_pred_test_rf))\n",
        "print('CBR :',r2_score(np.expm1(y_test), y_pred_test_cbr))\n",
        "print('Ensemble :',r2_score(np.expm1(y_test), y_pred_test_en))"
      ]
    }
  ],
  "metadata": {
    "kernelspec": {
      "display_name": "Python 3",
      "language": "python",
      "name": "python3"
    },
    "language_info": {
      "name": "python",
      "version": "3.10.9 (v3.10.9:1dd9be6584, Dec  6 2022, 14:37:36) [Clang 13.0.0 (clang-1300.0.29.30)]"
    },
    "orig_nbformat": 4,
    "vscode": {
      "interpreter": {
        "hash": "aee8b7b246df8f9039afb4144a1f6fd8d2ca17a180786b69acc140d282b71a49"
      }
    },
    "colab": {
      "provenance": []
    }
  },
  "nbformat": 4,
  "nbformat_minor": 0
}
